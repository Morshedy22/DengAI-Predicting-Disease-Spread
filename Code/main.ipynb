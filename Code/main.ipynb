{
 "cells": [
  {
   "cell_type": "markdown",
   "metadata": {},
   "source": [
    "# **Project Description**\n",
    "*Your goal is to predict the total_cases label for each (city, year, weekofyear) in the test set. There are two cities, **San Juan** and **Iquitos**, with test data for each city spanning 5 and 3 years respectively. **You will make one submission that contains predictions for both cities.** The data for each city have been concatenated along with a city column indicating the source: sj for San Juan and iq for Iquitos. The test set is a pure future hold-out, meaning the test data are sequential and non-overlapping with any of the training data. Throughout, missing values have been filled as NaNs.*"
   ]
  },
  {
   "cell_type": "markdown",
   "metadata": {},
   "source": [
    "- Project link: https://www.drivendata.org/competitions/44/dengai-predicting-disease-spread/page/82/#features_list"
   ]
  },
  {
   "cell_type": "markdown",
   "metadata": {},
   "source": [
    "### Import All Libraries We Need It"
   ]
  },
  {
   "cell_type": "code",
   "execution_count": 4,
   "metadata": {},
   "outputs": [],
   "source": [
    "import numpy as np\n",
    "import pandas as pd\n",
    "import matplotlib.pyplot as plt\n",
    "from sklearn import preprocessing, svm,tree\n",
    "from sklearn.model_selection import train_test_split\n",
    "from sklearn.neural_network import MLPClassifier\n",
    "from sklearn.ensemble import RandomForestClassifier\n",
    "from sklearn.naive_bayes import GaussianNB\n",
    "from sklearn.linear_model import LinearRegression\n",
    "from sklearn.neighbors import KNeighborsClassifier, KNeighborsRegressor\n",
    "from sklearn.metrics import mean_absolute_error"
   ]
  },
  {
   "cell_type": "markdown",
   "metadata": {},
   "source": [
    "### Read Data"
   ]
  },
  {
   "cell_type": "code",
   "execution_count": 5,
   "metadata": {},
   "outputs": [],
   "source": [
    "X_train=pd.read_csv('dengue_features_train.csv')\n",
    "y_train=pd.read_csv('dengue_labels_train.csv')"
   ]
  },
  {
   "cell_type": "markdown",
   "metadata": {},
   "source": [
    "### Show Features shape"
   ]
  },
  {
   "cell_type": "code",
   "execution_count": 6,
   "metadata": {},
   "outputs": [
    {
     "data": {
      "text/plain": [
       "(1456, 24)"
      ]
     },
     "execution_count": 6,
     "metadata": {},
     "output_type": "execute_result"
    }
   ],
   "source": [
    "X_train.shape"
   ]
  },
  {
   "cell_type": "code",
   "execution_count": 7,
   "metadata": {},
   "outputs": [
    {
     "data": {
      "text/html": [
       "<div>\n",
       "<style scoped>\n",
       "    .dataframe tbody tr th:only-of-type {\n",
       "        vertical-align: middle;\n",
       "    }\n",
       "\n",
       "    .dataframe tbody tr th {\n",
       "        vertical-align: top;\n",
       "    }\n",
       "\n",
       "    .dataframe thead th {\n",
       "        text-align: right;\n",
       "    }\n",
       "</style>\n",
       "<table border=\"1\" class=\"dataframe\">\n",
       "  <thead>\n",
       "    <tr style=\"text-align: right;\">\n",
       "      <th></th>\n",
       "      <th>city</th>\n",
       "      <th>year</th>\n",
       "      <th>weekofyear</th>\n",
       "      <th>week_start_date</th>\n",
       "      <th>ndvi_ne</th>\n",
       "      <th>ndvi_nw</th>\n",
       "      <th>ndvi_se</th>\n",
       "      <th>ndvi_sw</th>\n",
       "      <th>precipitation_amt_mm</th>\n",
       "      <th>reanalysis_air_temp_k</th>\n",
       "      <th>...</th>\n",
       "      <th>reanalysis_precip_amt_kg_per_m2</th>\n",
       "      <th>reanalysis_relative_humidity_percent</th>\n",
       "      <th>reanalysis_sat_precip_amt_mm</th>\n",
       "      <th>reanalysis_specific_humidity_g_per_kg</th>\n",
       "      <th>reanalysis_tdtr_k</th>\n",
       "      <th>station_avg_temp_c</th>\n",
       "      <th>station_diur_temp_rng_c</th>\n",
       "      <th>station_max_temp_c</th>\n",
       "      <th>station_min_temp_c</th>\n",
       "      <th>station_precip_mm</th>\n",
       "    </tr>\n",
       "  </thead>\n",
       "  <tbody>\n",
       "    <tr>\n",
       "      <th>0</th>\n",
       "      <td>sj</td>\n",
       "      <td>1990</td>\n",
       "      <td>18</td>\n",
       "      <td>1990-04-30</td>\n",
       "      <td>0.122600</td>\n",
       "      <td>0.103725</td>\n",
       "      <td>0.198483</td>\n",
       "      <td>0.177617</td>\n",
       "      <td>12.42</td>\n",
       "      <td>297.572857</td>\n",
       "      <td>...</td>\n",
       "      <td>32.00</td>\n",
       "      <td>73.365714</td>\n",
       "      <td>12.42</td>\n",
       "      <td>14.012857</td>\n",
       "      <td>2.628571</td>\n",
       "      <td>25.442857</td>\n",
       "      <td>6.900000</td>\n",
       "      <td>29.4</td>\n",
       "      <td>20.0</td>\n",
       "      <td>16.0</td>\n",
       "    </tr>\n",
       "    <tr>\n",
       "      <th>1</th>\n",
       "      <td>sj</td>\n",
       "      <td>1990</td>\n",
       "      <td>19</td>\n",
       "      <td>1990-05-07</td>\n",
       "      <td>0.169900</td>\n",
       "      <td>0.142175</td>\n",
       "      <td>0.162357</td>\n",
       "      <td>0.155486</td>\n",
       "      <td>22.82</td>\n",
       "      <td>298.211429</td>\n",
       "      <td>...</td>\n",
       "      <td>17.94</td>\n",
       "      <td>77.368571</td>\n",
       "      <td>22.82</td>\n",
       "      <td>15.372857</td>\n",
       "      <td>2.371429</td>\n",
       "      <td>26.714286</td>\n",
       "      <td>6.371429</td>\n",
       "      <td>31.7</td>\n",
       "      <td>22.2</td>\n",
       "      <td>8.6</td>\n",
       "    </tr>\n",
       "    <tr>\n",
       "      <th>2</th>\n",
       "      <td>sj</td>\n",
       "      <td>1990</td>\n",
       "      <td>20</td>\n",
       "      <td>1990-05-14</td>\n",
       "      <td>0.032250</td>\n",
       "      <td>0.172967</td>\n",
       "      <td>0.157200</td>\n",
       "      <td>0.170843</td>\n",
       "      <td>34.54</td>\n",
       "      <td>298.781429</td>\n",
       "      <td>...</td>\n",
       "      <td>26.10</td>\n",
       "      <td>82.052857</td>\n",
       "      <td>34.54</td>\n",
       "      <td>16.848571</td>\n",
       "      <td>2.300000</td>\n",
       "      <td>26.714286</td>\n",
       "      <td>6.485714</td>\n",
       "      <td>32.2</td>\n",
       "      <td>22.8</td>\n",
       "      <td>41.4</td>\n",
       "    </tr>\n",
       "    <tr>\n",
       "      <th>3</th>\n",
       "      <td>sj</td>\n",
       "      <td>1990</td>\n",
       "      <td>21</td>\n",
       "      <td>1990-05-21</td>\n",
       "      <td>0.128633</td>\n",
       "      <td>0.245067</td>\n",
       "      <td>0.227557</td>\n",
       "      <td>0.235886</td>\n",
       "      <td>15.36</td>\n",
       "      <td>298.987143</td>\n",
       "      <td>...</td>\n",
       "      <td>13.90</td>\n",
       "      <td>80.337143</td>\n",
       "      <td>15.36</td>\n",
       "      <td>16.672857</td>\n",
       "      <td>2.428571</td>\n",
       "      <td>27.471429</td>\n",
       "      <td>6.771429</td>\n",
       "      <td>33.3</td>\n",
       "      <td>23.3</td>\n",
       "      <td>4.0</td>\n",
       "    </tr>\n",
       "    <tr>\n",
       "      <th>4</th>\n",
       "      <td>sj</td>\n",
       "      <td>1990</td>\n",
       "      <td>22</td>\n",
       "      <td>1990-05-28</td>\n",
       "      <td>0.196200</td>\n",
       "      <td>0.262200</td>\n",
       "      <td>0.251200</td>\n",
       "      <td>0.247340</td>\n",
       "      <td>7.52</td>\n",
       "      <td>299.518571</td>\n",
       "      <td>...</td>\n",
       "      <td>12.20</td>\n",
       "      <td>80.460000</td>\n",
       "      <td>7.52</td>\n",
       "      <td>17.210000</td>\n",
       "      <td>3.014286</td>\n",
       "      <td>28.942857</td>\n",
       "      <td>9.371429</td>\n",
       "      <td>35.0</td>\n",
       "      <td>23.9</td>\n",
       "      <td>5.8</td>\n",
       "    </tr>\n",
       "  </tbody>\n",
       "</table>\n",
       "<p>5 rows × 24 columns</p>\n",
       "</div>"
      ],
      "text/plain": [
       "  city  year  weekofyear week_start_date   ndvi_ne   ndvi_nw   ndvi_se  \\\n",
       "0   sj  1990          18      1990-04-30  0.122600  0.103725  0.198483   \n",
       "1   sj  1990          19      1990-05-07  0.169900  0.142175  0.162357   \n",
       "2   sj  1990          20      1990-05-14  0.032250  0.172967  0.157200   \n",
       "3   sj  1990          21      1990-05-21  0.128633  0.245067  0.227557   \n",
       "4   sj  1990          22      1990-05-28  0.196200  0.262200  0.251200   \n",
       "\n",
       "    ndvi_sw  precipitation_amt_mm  reanalysis_air_temp_k  ...  \\\n",
       "0  0.177617                 12.42             297.572857  ...   \n",
       "1  0.155486                 22.82             298.211429  ...   \n",
       "2  0.170843                 34.54             298.781429  ...   \n",
       "3  0.235886                 15.36             298.987143  ...   \n",
       "4  0.247340                  7.52             299.518571  ...   \n",
       "\n",
       "   reanalysis_precip_amt_kg_per_m2  reanalysis_relative_humidity_percent  \\\n",
       "0                            32.00                             73.365714   \n",
       "1                            17.94                             77.368571   \n",
       "2                            26.10                             82.052857   \n",
       "3                            13.90                             80.337143   \n",
       "4                            12.20                             80.460000   \n",
       "\n",
       "   reanalysis_sat_precip_amt_mm  reanalysis_specific_humidity_g_per_kg  \\\n",
       "0                         12.42                              14.012857   \n",
       "1                         22.82                              15.372857   \n",
       "2                         34.54                              16.848571   \n",
       "3                         15.36                              16.672857   \n",
       "4                          7.52                              17.210000   \n",
       "\n",
       "   reanalysis_tdtr_k  station_avg_temp_c  station_diur_temp_rng_c  \\\n",
       "0           2.628571           25.442857                 6.900000   \n",
       "1           2.371429           26.714286                 6.371429   \n",
       "2           2.300000           26.714286                 6.485714   \n",
       "3           2.428571           27.471429                 6.771429   \n",
       "4           3.014286           28.942857                 9.371429   \n",
       "\n",
       "   station_max_temp_c  station_min_temp_c  station_precip_mm  \n",
       "0                29.4                20.0               16.0  \n",
       "1                31.7                22.2                8.6  \n",
       "2                32.2                22.8               41.4  \n",
       "3                33.3                23.3                4.0  \n",
       "4                35.0                23.9                5.8  \n",
       "\n",
       "[5 rows x 24 columns]"
      ]
     },
     "execution_count": 7,
     "metadata": {},
     "output_type": "execute_result"
    }
   ],
   "source": [
    "X_train.head()"
   ]
  },
  {
   "cell_type": "code",
   "execution_count": 8,
   "metadata": {},
   "outputs": [
    {
     "data": {
      "text/html": [
       "<div>\n",
       "<style scoped>\n",
       "    .dataframe tbody tr th:only-of-type {\n",
       "        vertical-align: middle;\n",
       "    }\n",
       "\n",
       "    .dataframe tbody tr th {\n",
       "        vertical-align: top;\n",
       "    }\n",
       "\n",
       "    .dataframe thead th {\n",
       "        text-align: right;\n",
       "    }\n",
       "</style>\n",
       "<table border=\"1\" class=\"dataframe\">\n",
       "  <thead>\n",
       "    <tr style=\"text-align: right;\">\n",
       "      <th></th>\n",
       "      <th>city</th>\n",
       "      <th>year</th>\n",
       "      <th>weekofyear</th>\n",
       "      <th>total_cases</th>\n",
       "    </tr>\n",
       "  </thead>\n",
       "  <tbody>\n",
       "    <tr>\n",
       "      <th>0</th>\n",
       "      <td>sj</td>\n",
       "      <td>1990</td>\n",
       "      <td>18</td>\n",
       "      <td>4</td>\n",
       "    </tr>\n",
       "    <tr>\n",
       "      <th>1</th>\n",
       "      <td>sj</td>\n",
       "      <td>1990</td>\n",
       "      <td>19</td>\n",
       "      <td>5</td>\n",
       "    </tr>\n",
       "    <tr>\n",
       "      <th>2</th>\n",
       "      <td>sj</td>\n",
       "      <td>1990</td>\n",
       "      <td>20</td>\n",
       "      <td>4</td>\n",
       "    </tr>\n",
       "    <tr>\n",
       "      <th>3</th>\n",
       "      <td>sj</td>\n",
       "      <td>1990</td>\n",
       "      <td>21</td>\n",
       "      <td>3</td>\n",
       "    </tr>\n",
       "    <tr>\n",
       "      <th>4</th>\n",
       "      <td>sj</td>\n",
       "      <td>1990</td>\n",
       "      <td>22</td>\n",
       "      <td>6</td>\n",
       "    </tr>\n",
       "  </tbody>\n",
       "</table>\n",
       "</div>"
      ],
      "text/plain": [
       "  city  year  weekofyear  total_cases\n",
       "0   sj  1990          18            4\n",
       "1   sj  1990          19            5\n",
       "2   sj  1990          20            4\n",
       "3   sj  1990          21            3\n",
       "4   sj  1990          22            6"
      ]
     },
     "execution_count": 8,
     "metadata": {},
     "output_type": "execute_result"
    }
   ],
   "source": [
    "y_train.head()"
   ]
  },
  {
   "attachments": {},
   "cell_type": "markdown",
   "metadata": {},
   "source": [
    "Assume that the both data are sorted (i would not join using  x.city=y.city and x.year=y.year and x.weekofyear=y.weekofyear )"
   ]
  },
  {
   "cell_type": "code",
   "execution_count": 9,
   "metadata": {},
   "outputs": [],
   "source": [
    "data1 = X_train.copy()\n",
    "data1['total_cases'] = y_train['total_cases'].astype(int)"
   ]
  },
  {
   "cell_type": "code",
   "execution_count": 10,
   "metadata": {},
   "outputs": [
    {
     "data": {
      "text/html": [
       "<div>\n",
       "<style scoped>\n",
       "    .dataframe tbody tr th:only-of-type {\n",
       "        vertical-align: middle;\n",
       "    }\n",
       "\n",
       "    .dataframe tbody tr th {\n",
       "        vertical-align: top;\n",
       "    }\n",
       "\n",
       "    .dataframe thead th {\n",
       "        text-align: right;\n",
       "    }\n",
       "</style>\n",
       "<table border=\"1\" class=\"dataframe\">\n",
       "  <thead>\n",
       "    <tr style=\"text-align: right;\">\n",
       "      <th></th>\n",
       "      <th>city</th>\n",
       "      <th>year</th>\n",
       "      <th>weekofyear</th>\n",
       "      <th>week_start_date</th>\n",
       "      <th>ndvi_ne</th>\n",
       "      <th>ndvi_nw</th>\n",
       "      <th>ndvi_se</th>\n",
       "      <th>ndvi_sw</th>\n",
       "      <th>precipitation_amt_mm</th>\n",
       "      <th>reanalysis_air_temp_k</th>\n",
       "      <th>...</th>\n",
       "      <th>reanalysis_relative_humidity_percent</th>\n",
       "      <th>reanalysis_sat_precip_amt_mm</th>\n",
       "      <th>reanalysis_specific_humidity_g_per_kg</th>\n",
       "      <th>reanalysis_tdtr_k</th>\n",
       "      <th>station_avg_temp_c</th>\n",
       "      <th>station_diur_temp_rng_c</th>\n",
       "      <th>station_max_temp_c</th>\n",
       "      <th>station_min_temp_c</th>\n",
       "      <th>station_precip_mm</th>\n",
       "      <th>total_cases</th>\n",
       "    </tr>\n",
       "  </thead>\n",
       "  <tbody>\n",
       "    <tr>\n",
       "      <th>0</th>\n",
       "      <td>sj</td>\n",
       "      <td>1990</td>\n",
       "      <td>18</td>\n",
       "      <td>1990-04-30</td>\n",
       "      <td>0.122600</td>\n",
       "      <td>0.103725</td>\n",
       "      <td>0.198483</td>\n",
       "      <td>0.177617</td>\n",
       "      <td>12.42</td>\n",
       "      <td>297.572857</td>\n",
       "      <td>...</td>\n",
       "      <td>73.365714</td>\n",
       "      <td>12.42</td>\n",
       "      <td>14.012857</td>\n",
       "      <td>2.628571</td>\n",
       "      <td>25.442857</td>\n",
       "      <td>6.900000</td>\n",
       "      <td>29.4</td>\n",
       "      <td>20.0</td>\n",
       "      <td>16.0</td>\n",
       "      <td>4</td>\n",
       "    </tr>\n",
       "    <tr>\n",
       "      <th>1</th>\n",
       "      <td>sj</td>\n",
       "      <td>1990</td>\n",
       "      <td>19</td>\n",
       "      <td>1990-05-07</td>\n",
       "      <td>0.169900</td>\n",
       "      <td>0.142175</td>\n",
       "      <td>0.162357</td>\n",
       "      <td>0.155486</td>\n",
       "      <td>22.82</td>\n",
       "      <td>298.211429</td>\n",
       "      <td>...</td>\n",
       "      <td>77.368571</td>\n",
       "      <td>22.82</td>\n",
       "      <td>15.372857</td>\n",
       "      <td>2.371429</td>\n",
       "      <td>26.714286</td>\n",
       "      <td>6.371429</td>\n",
       "      <td>31.7</td>\n",
       "      <td>22.2</td>\n",
       "      <td>8.6</td>\n",
       "      <td>5</td>\n",
       "    </tr>\n",
       "    <tr>\n",
       "      <th>2</th>\n",
       "      <td>sj</td>\n",
       "      <td>1990</td>\n",
       "      <td>20</td>\n",
       "      <td>1990-05-14</td>\n",
       "      <td>0.032250</td>\n",
       "      <td>0.172967</td>\n",
       "      <td>0.157200</td>\n",
       "      <td>0.170843</td>\n",
       "      <td>34.54</td>\n",
       "      <td>298.781429</td>\n",
       "      <td>...</td>\n",
       "      <td>82.052857</td>\n",
       "      <td>34.54</td>\n",
       "      <td>16.848571</td>\n",
       "      <td>2.300000</td>\n",
       "      <td>26.714286</td>\n",
       "      <td>6.485714</td>\n",
       "      <td>32.2</td>\n",
       "      <td>22.8</td>\n",
       "      <td>41.4</td>\n",
       "      <td>4</td>\n",
       "    </tr>\n",
       "    <tr>\n",
       "      <th>3</th>\n",
       "      <td>sj</td>\n",
       "      <td>1990</td>\n",
       "      <td>21</td>\n",
       "      <td>1990-05-21</td>\n",
       "      <td>0.128633</td>\n",
       "      <td>0.245067</td>\n",
       "      <td>0.227557</td>\n",
       "      <td>0.235886</td>\n",
       "      <td>15.36</td>\n",
       "      <td>298.987143</td>\n",
       "      <td>...</td>\n",
       "      <td>80.337143</td>\n",
       "      <td>15.36</td>\n",
       "      <td>16.672857</td>\n",
       "      <td>2.428571</td>\n",
       "      <td>27.471429</td>\n",
       "      <td>6.771429</td>\n",
       "      <td>33.3</td>\n",
       "      <td>23.3</td>\n",
       "      <td>4.0</td>\n",
       "      <td>3</td>\n",
       "    </tr>\n",
       "    <tr>\n",
       "      <th>4</th>\n",
       "      <td>sj</td>\n",
       "      <td>1990</td>\n",
       "      <td>22</td>\n",
       "      <td>1990-05-28</td>\n",
       "      <td>0.196200</td>\n",
       "      <td>0.262200</td>\n",
       "      <td>0.251200</td>\n",
       "      <td>0.247340</td>\n",
       "      <td>7.52</td>\n",
       "      <td>299.518571</td>\n",
       "      <td>...</td>\n",
       "      <td>80.460000</td>\n",
       "      <td>7.52</td>\n",
       "      <td>17.210000</td>\n",
       "      <td>3.014286</td>\n",
       "      <td>28.942857</td>\n",
       "      <td>9.371429</td>\n",
       "      <td>35.0</td>\n",
       "      <td>23.9</td>\n",
       "      <td>5.8</td>\n",
       "      <td>6</td>\n",
       "    </tr>\n",
       "  </tbody>\n",
       "</table>\n",
       "<p>5 rows × 25 columns</p>\n",
       "</div>"
      ],
      "text/plain": [
       "  city  year  weekofyear week_start_date   ndvi_ne   ndvi_nw   ndvi_se  \\\n",
       "0   sj  1990          18      1990-04-30  0.122600  0.103725  0.198483   \n",
       "1   sj  1990          19      1990-05-07  0.169900  0.142175  0.162357   \n",
       "2   sj  1990          20      1990-05-14  0.032250  0.172967  0.157200   \n",
       "3   sj  1990          21      1990-05-21  0.128633  0.245067  0.227557   \n",
       "4   sj  1990          22      1990-05-28  0.196200  0.262200  0.251200   \n",
       "\n",
       "    ndvi_sw  precipitation_amt_mm  reanalysis_air_temp_k  ...  \\\n",
       "0  0.177617                 12.42             297.572857  ...   \n",
       "1  0.155486                 22.82             298.211429  ...   \n",
       "2  0.170843                 34.54             298.781429  ...   \n",
       "3  0.235886                 15.36             298.987143  ...   \n",
       "4  0.247340                  7.52             299.518571  ...   \n",
       "\n",
       "   reanalysis_relative_humidity_percent  reanalysis_sat_precip_amt_mm  \\\n",
       "0                             73.365714                         12.42   \n",
       "1                             77.368571                         22.82   \n",
       "2                             82.052857                         34.54   \n",
       "3                             80.337143                         15.36   \n",
       "4                             80.460000                          7.52   \n",
       "\n",
       "   reanalysis_specific_humidity_g_per_kg  reanalysis_tdtr_k  \\\n",
       "0                              14.012857           2.628571   \n",
       "1                              15.372857           2.371429   \n",
       "2                              16.848571           2.300000   \n",
       "3                              16.672857           2.428571   \n",
       "4                              17.210000           3.014286   \n",
       "\n",
       "   station_avg_temp_c  station_diur_temp_rng_c  station_max_temp_c  \\\n",
       "0           25.442857                 6.900000                29.4   \n",
       "1           26.714286                 6.371429                31.7   \n",
       "2           26.714286                 6.485714                32.2   \n",
       "3           27.471429                 6.771429                33.3   \n",
       "4           28.942857                 9.371429                35.0   \n",
       "\n",
       "   station_min_temp_c  station_precip_mm  total_cases  \n",
       "0                20.0               16.0            4  \n",
       "1                22.2                8.6            5  \n",
       "2                22.8               41.4            4  \n",
       "3                23.3                4.0            3  \n",
       "4                23.9                5.8            6  \n",
       "\n",
       "[5 rows x 25 columns]"
      ]
     },
     "execution_count": 10,
     "metadata": {},
     "output_type": "execute_result"
    }
   ],
   "source": [
    "data1.head()"
   ]
  },
  {
   "cell_type": "markdown",
   "metadata": {},
   "source": [
    "### Description about the features\n"
   ]
  },
  {
   "cell_type": "code",
   "execution_count": 11,
   "metadata": {},
   "outputs": [
    {
     "name": "stdout",
     "output_type": "stream",
     "text": [
      "<class 'pandas.core.frame.DataFrame'>\n",
      "RangeIndex: 1456 entries, 0 to 1455\n",
      "Data columns (total 25 columns):\n",
      " #   Column                                 Non-Null Count  Dtype  \n",
      "---  ------                                 --------------  -----  \n",
      " 0   city                                   1456 non-null   object \n",
      " 1   year                                   1456 non-null   int64  \n",
      " 2   weekofyear                             1456 non-null   int64  \n",
      " 3   week_start_date                        1456 non-null   object \n",
      " 4   ndvi_ne                                1262 non-null   float64\n",
      " 5   ndvi_nw                                1404 non-null   float64\n",
      " 6   ndvi_se                                1434 non-null   float64\n",
      " 7   ndvi_sw                                1434 non-null   float64\n",
      " 8   precipitation_amt_mm                   1443 non-null   float64\n",
      " 9   reanalysis_air_temp_k                  1446 non-null   float64\n",
      " 10  reanalysis_avg_temp_k                  1446 non-null   float64\n",
      " 11  reanalysis_dew_point_temp_k            1446 non-null   float64\n",
      " 12  reanalysis_max_air_temp_k              1446 non-null   float64\n",
      " 13  reanalysis_min_air_temp_k              1446 non-null   float64\n",
      " 14  reanalysis_precip_amt_kg_per_m2        1446 non-null   float64\n",
      " 15  reanalysis_relative_humidity_percent   1446 non-null   float64\n",
      " 16  reanalysis_sat_precip_amt_mm           1443 non-null   float64\n",
      " 17  reanalysis_specific_humidity_g_per_kg  1446 non-null   float64\n",
      " 18  reanalysis_tdtr_k                      1446 non-null   float64\n",
      " 19  station_avg_temp_c                     1413 non-null   float64\n",
      " 20  station_diur_temp_rng_c                1413 non-null   float64\n",
      " 21  station_max_temp_c                     1436 non-null   float64\n",
      " 22  station_min_temp_c                     1442 non-null   float64\n",
      " 23  station_precip_mm                      1434 non-null   float64\n",
      " 24  total_cases                            1456 non-null   int32  \n",
      "dtypes: float64(20), int32(1), int64(2), object(2)\n",
      "memory usage: 278.8+ KB\n"
     ]
    }
   ],
   "source": [
    "data1.info()"
   ]
  },
  {
   "cell_type": "markdown",
   "metadata": {},
   "source": [
    "<b><i>City and date indicators</i></b><br/>\n",
    "<b>city</b> – City abbreviations: sj for San Juan and iq for Iquitos<br/>\n",
    "<b>week_start_date</b> – Date given in yyyy-mm-dd format<p/>\n",
    "\n",
    "<b><i>Satellite vegetation - Normalized difference vegetation index (NDVI) - NOAA's CDR Normalized Difference Vegetation Index (0.5x0.5 degree scale) measurements</i></b><br/>\n",
    "<b>ndvi_se</b> – Pixel southeast of city centroid<br/>\n",
    "<b>ndvi_sw</b> – Pixel southwest of city centroid<br/>\n",
    "<b>ndvi_ne</b> – Pixel northeast of city centroid<br/>\n",
    "<b>ndvi_nw</b> – Pixel northwest of city centroid<br/>\n",
    "\n",
    "<b><i>NOAA's GHCN daily climate data weather station measurements</i></b><br/>\n",
    "<b>station_max_temp_c</b> – Maximum temperature<br/>\n",
    "<b>station_min_temp_c</b> – Minimum temperature<br/>\n",
    "<b>station_avg_temp_c</b> – Average temperature<br/>\n",
    "<b>station_precip_mm</b> – Total precipitation<br/>\n",
    "<b>station_diur_temp_rng_c</b> – Diurnal temperature range<p/>\n",
    "<b><i>PERSIANN satellite precipitation measurements (0.25x0.25 degree scale)</i></b><br/>\n",
    "<b>precipitation_amt_mm</b> – Total precipitation<p/>\n",
    "<b><i>NOAA's NCEP Climate Forecast System Reanalysis measurements (0.5x0.5 degree scale)</i></b><br/>\n",
    "<b>reanalysis_sat_precip_amt_mm</b> – Total precipitation<br/>\n",
    "<b>reanalysis_dew_point_temp_k</b> – Mean dew point temperature<br/>\n",
    "<b>reanalysis_air_temp_k</b> – Mean air temperature<br/>\n",
    "<b>reanalysis_relative_humidity_percent</b> – Mean relative humidity<br/>\n",
    "<b>reanalysis_specific_humidity_g_per_kg</b> – Mean specific humidity<br/>\n",
    "<b>reanalysis_precip_amt_kg_per_m2</b> – Total precipitation<br/>\n",
    "<b>reanalysis_max_air_temp_k</b> – Maximum air temperature<br/>\n",
    "<b>reanalysis_min_air_temp_k</b> – Minimum air temperature<br/>\n",
    "<b>reanalysis_avg_temp_k</b> – Average air temperature<br/>\n",
    "<b>reanalysis_tdtr_k</b> – Diurnal temperature range<p/>\n"
   ]
  },
  {
   "attachments": {},
   "cell_type": "markdown",
   "metadata": {},
   "source": [
    "### Step 1: Check Nulls and Duplicates"
   ]
  },
  {
   "cell_type": "code",
   "execution_count": 12,
   "metadata": {},
   "outputs": [
    {
     "data": {
      "text/plain": [
       "0"
      ]
     },
     "execution_count": 12,
     "metadata": {},
     "output_type": "execute_result"
    }
   ],
   "source": [
    "np.sum(data1.duplicated())"
   ]
  },
  {
   "cell_type": "code",
   "execution_count": 13,
   "metadata": {},
   "outputs": [
    {
     "data": {
      "text/plain": [
       "city                                       0\n",
       "year                                       0\n",
       "weekofyear                                 0\n",
       "week_start_date                            0\n",
       "ndvi_ne                                  194\n",
       "ndvi_nw                                   52\n",
       "ndvi_se                                   22\n",
       "ndvi_sw                                   22\n",
       "precipitation_amt_mm                      13\n",
       "reanalysis_air_temp_k                     10\n",
       "reanalysis_avg_temp_k                     10\n",
       "reanalysis_dew_point_temp_k               10\n",
       "reanalysis_max_air_temp_k                 10\n",
       "reanalysis_min_air_temp_k                 10\n",
       "reanalysis_precip_amt_kg_per_m2           10\n",
       "reanalysis_relative_humidity_percent      10\n",
       "reanalysis_sat_precip_amt_mm              13\n",
       "reanalysis_specific_humidity_g_per_kg     10\n",
       "reanalysis_tdtr_k                         10\n",
       "station_avg_temp_c                        43\n",
       "station_diur_temp_rng_c                   43\n",
       "station_max_temp_c                        20\n",
       "station_min_temp_c                        14\n",
       "station_precip_mm                         22\n",
       "total_cases                                0\n",
       "dtype: int64"
      ]
     },
     "execution_count": 13,
     "metadata": {},
     "output_type": "execute_result"
    }
   ],
   "source": [
    "data1.isnull().sum()"
   ]
  },
  {
   "cell_type": "markdown",
   "metadata": {},
   "source": [
    "#### Check how many row have null value if is not many drop all of it"
   ]
  },
  {
   "cell_type": "code",
   "execution_count": 14,
   "metadata": {},
   "outputs": [
    {
     "name": "stdout",
     "output_type": "stream",
     "text": [
      "(1456, 25)\n",
      "(1199, 25)\n",
      "There is 257 have at least one null value\n"
     ]
    }
   ],
   "source": [
    "print(data1.shape)\n",
    "print(data1.dropna().shape)\n",
    "\n",
    "print(\"There is \" + str(data1.shape[0] - data1.dropna().shape[0]) + \" have at least one null value\")"
   ]
  },
  {
   "cell_type": "markdown",
   "metadata": {},
   "source": [
    "#### too many NULL VALUES so fill it by mean or median bs ana h3mlha bal KNNRegressor"
   ]
  },
  {
   "attachments": {},
   "cell_type": "markdown",
   "metadata": {},
   "source": [
    "# Step 2: Fill Null"
   ]
  },
  {
   "cell_type": "code",
   "execution_count": 15,
   "metadata": {},
   "outputs": [],
   "source": [
    "data2 = data1.copy()"
   ]
  },
  {
   "cell_type": "markdown",
   "metadata": {},
   "source": [
    "### Explore Category Null values & will find there is no null vluaes in category to fill it by mode for example"
   ]
  },
  {
   "cell_type": "code",
   "execution_count": 16,
   "metadata": {},
   "outputs": [
    {
     "data": {
      "text/plain": [
       "Index([], dtype='object')"
      ]
     },
     "execution_count": 16,
     "metadata": {},
     "output_type": "execute_result"
    }
   ],
   "source": [
    "data2.select_dtypes('object').loc[:, data2.isna().sum() > 0].columns"
   ]
  },
  {
   "cell_type": "markdown",
   "metadata": {},
   "source": [
    "### Numeric Missing values\n",
    "\n",
    "### Explore Numerical features"
   ]
  },
  {
   "cell_type": "code",
   "execution_count": 17,
   "metadata": {},
   "outputs": [
    {
     "data": {
      "text/plain": [
       "Index(['ndvi_ne', 'ndvi_nw', 'ndvi_se', 'ndvi_sw', 'precipitation_amt_mm',\n",
       "       'reanalysis_air_temp_k', 'reanalysis_avg_temp_k',\n",
       "       'reanalysis_dew_point_temp_k', 'reanalysis_max_air_temp_k',\n",
       "       'reanalysis_min_air_temp_k', 'reanalysis_precip_amt_kg_per_m2',\n",
       "       'reanalysis_relative_humidity_percent', 'reanalysis_sat_precip_amt_mm',\n",
       "       'reanalysis_specific_humidity_g_per_kg', 'reanalysis_tdtr_k',\n",
       "       'station_avg_temp_c', 'station_diur_temp_rng_c', 'station_max_temp_c',\n",
       "       'station_min_temp_c', 'station_precip_mm'],\n",
       "      dtype='object')"
      ]
     },
     "execution_count": 17,
     "metadata": {},
     "output_type": "execute_result"
    }
   ],
   "source": [
    "data2.select_dtypes(np.number).loc[:, data2.isna().sum() > 0].columns"
   ]
  },
  {
   "cell_type": "markdown",
   "metadata": {},
   "source": [
    "### Fill null values using KNNRegressor"
   ]
  },
  {
   "cell_type": "code",
   "execution_count": 18,
   "metadata": {},
   "outputs": [],
   "source": [
    "def Knn_impute(df, na_target): # na_target -> column have null values\n",
    "    \"\"\" \n",
    "        Take data frame and column\n",
    "        return data frame with filling missing value in column\n",
    "        by using Knn algorithm\n",
    "    \"\"\"\n",
    "    df = df.copy()\n",
    "\n",
    "    numeric_df = df.select_dtypes(np.number)\n",
    "    non_na_columns = numeric_df.loc[:,numeric_df.isna().sum() == 0].columns\n",
    "\n",
    "    # y_train: rows that not have null values in column(na_target)\n",
    "    y_train = numeric_df.loc[numeric_df[na_target].isna() == False, na_target]\n",
    "    # X_train: columns that not have null values (non_na_column) & select from these column rows that not have null values\n",
    "    X_train = numeric_df.loc[numeric_df[na_target].isna() == False, non_na_columns]\n",
    "    # X_test:  columns that not have null values (non_na_column) & select from these column rows that have null values\n",
    "    X_test = numeric_df.loc[numeric_df[na_target].isna() == True, non_na_columns]\n",
    "\n",
    "    \"\"\" \n",
    "    KNN Regressor vs classifier\n",
    "    The key differences are: KNN regression tries to predict the value of the output variable by using a local average.\n",
    "    KNN classification attempts to predict the class to which the output variable belong by computing the local probability. \n",
    "    \"\"\"\n",
    "    # fa7na mstkhdmeen KneKNeighborsRegressor 3shan hya numeric value\n",
    "    knn = KNeighborsRegressor(n_neighbors=15)\n",
    "    knn.fit(X_train, y_train)\n",
    "\n",
    "    # hna hyrg3 al perdict ll null values alna kount 3ayz amlaha\n",
    "    y_pred = knn.predict(X_test)\n",
    "    \n",
    "    df.loc[df[na_target].isna() == True, na_target] = y_pred\n",
    "\n",
    "    return df"
   ]
  },
  {
   "cell_type": "code",
   "execution_count": 21,
   "metadata": {},
   "outputs": [],
   "source": [
    "data3 = data2.copy()\n",
    "for column in ['ndvi_ne', 'ndvi_nw', 'ndvi_se', 'ndvi_sw', 'precipitation_amt_mm',\n",
    "       'reanalysis_air_temp_k', 'reanalysis_avg_temp_k',\n",
    "       'reanalysis_dew_point_temp_k', 'reanalysis_max_air_temp_k',\n",
    "       'reanalysis_min_air_temp_k', 'reanalysis_precip_amt_kg_per_m2',\n",
    "       'reanalysis_relative_humidity_percent', 'reanalysis_sat_precip_amt_mm',\n",
    "       'reanalysis_specific_humidity_g_per_kg', 'reanalysis_tdtr_k',\n",
    "       'station_avg_temp_c', 'station_diur_temp_rng_c', 'station_max_temp_c',\n",
    "       'station_min_temp_c', 'station_precip_mm']: \n",
    "       \n",
    "   data3 = Knn_impute(data3,column)"
   ]
  },
  {
   "cell_type": "code",
   "execution_count": 22,
   "metadata": {},
   "outputs": [
    {
     "data": {
      "text/plain": [
       "city                                     0\n",
       "year                                     0\n",
       "weekofyear                               0\n",
       "week_start_date                          0\n",
       "ndvi_ne                                  0\n",
       "ndvi_nw                                  0\n",
       "ndvi_se                                  0\n",
       "ndvi_sw                                  0\n",
       "precipitation_amt_mm                     0\n",
       "reanalysis_air_temp_k                    0\n",
       "reanalysis_avg_temp_k                    0\n",
       "reanalysis_dew_point_temp_k              0\n",
       "reanalysis_max_air_temp_k                0\n",
       "reanalysis_min_air_temp_k                0\n",
       "reanalysis_precip_amt_kg_per_m2          0\n",
       "reanalysis_relative_humidity_percent     0\n",
       "reanalysis_sat_precip_amt_mm             0\n",
       "reanalysis_specific_humidity_g_per_kg    0\n",
       "reanalysis_tdtr_k                        0\n",
       "station_avg_temp_c                       0\n",
       "station_diur_temp_rng_c                  0\n",
       "station_max_temp_c                       0\n",
       "station_min_temp_c                       0\n",
       "station_precip_mm                        0\n",
       "total_cases                              0\n",
       "dtype: int64"
      ]
     },
     "execution_count": 22,
     "metadata": {},
     "output_type": "execute_result"
    }
   ],
   "source": [
    "data3.isna().sum()"
   ]
  },
  {
   "attachments": {},
   "cell_type": "markdown",
   "metadata": {},
   "source": [
    "# Step 3: Understand the distribution of the data"
   ]
  },
  {
   "cell_type": "code",
   "execution_count": 23,
   "metadata": {},
   "outputs": [],
   "source": [
    "data4 = data3.copy()"
   ]
  },
  {
   "cell_type": "code",
   "execution_count": 24,
   "metadata": {},
   "outputs": [
    {
     "data": {
      "image/png": "[encoded data removed]",
      "text/plain": [
       "<Figure size 640x480 with 1 Axes>"
      ]
     },
     "metadata": {},
     "output_type": "display_data"
    }
   ],
   "source": [
    "city_counts = data4['city'].value_counts()\n",
    "\n",
    "plt.bar(city_counts.index, city_counts.values)\n",
    "plt.xlabel('City')\n",
    "plt.ylabel('Number of Occurrences')\n",
    "plt.title('City Distribution')\n",
    "plt.show()"
   ]
  },
  {
   "cell_type": "code",
   "execution_count": 25,
   "metadata": {},
   "outputs": [],
   "source": [
    "def getMonth(row):\n",
    "    date=row['week_start_date']\n",
    "    month = int(date.split('-')[1] )\n",
    "    return month\n",
    "\n",
    "months = data4.apply(getMonth,axis=1)\n",
    "test_cases = data4['total_cases']"
   ]
  },
  {
   "cell_type": "code",
   "execution_count": 26,
   "metadata": {},
   "outputs": [],
   "source": [
    "time_month = np.zeros(13)\n",
    "for i in range(len(months)):\n",
    "    time_month[months.iloc[i]]+=test_cases.iloc[i]"
   ]
  },
  {
   "cell_type": "code",
   "execution_count": 27,
   "metadata": {},
   "outputs": [
    {
     "data": {
      "image/png": "[encoded data removed]",
      "text/plain": [
       "<Figure size 640x480 with 1 Axes>"
      ]
     },
     "metadata": {},
     "output_type": "display_data"
    }
   ],
   "source": [
    "plt.bar(range(1,13),time_month[1:])\n",
    "plt.xlabel('Month')\n",
    "plt.ylabel('Number of Cases')\n",
    "plt.title('Month Distribution')\n",
    "plt.show()"
   ]
  },
  {
   "attachments": {},
   "cell_type": "markdown",
   "metadata": {},
   "source": [
    "I observe that the disease increases in the summer"
   ]
  },
  {
   "cell_type": "code",
   "execution_count": 28,
   "metadata": {},
   "outputs": [
    {
     "data": {
      "image/png": "[encoded data removed]",
      "text/plain": [
       "<Figure size 640x480 with 1 Axes>"
      ]
     },
     "metadata": {},
     "output_type": "display_data"
    }
   ],
   "source": [
    "time_year = np.zeros(21)\n",
    "for i in range(len(data4)):\n",
    "    time_year[data4['year'].iloc[i]-1990]+=test_cases.iloc[i].astype(int)\n",
    "\n",
    "plt.plot(range(1990,2011),time_year)\n",
    "plt.xlabel('Year')\n",
    "plt.ylabel('Number of Cases')\n",
    "plt.title('Year Distribution')\n",
    "plt.show()\n"
   ]
  },
  {
   "cell_type": "code",
   "execution_count": 29,
   "metadata": {},
   "outputs": [
    {
     "data": {
      "image/png": "[encoded data removed]",
      "text/plain": [
       "<Figure size 640x480 with 1 Axes>"
      ]
     },
     "metadata": {},
     "output_type": "display_data"
    }
   ],
   "source": [
    "# plot station_avg_temp_c against total_cases\n",
    "plt.scatter(data4['station_avg_temp_c'], data4['total_cases'])\n",
    "plt.xlabel('Station Avg Temp')\n",
    "plt.ylabel('total_cases')\n",
    "plt.title('Station Avg Temp vs # of cases')\n",
    "plt.show()\n"
   ]
  },
  {
   "attachments": {},
   "cell_type": "markdown",
   "metadata": {},
   "source": [
    "No direct relation between station average temperature and the number of cases"
   ]
  },
  {
   "cell_type": "code",
   "execution_count": 30,
   "metadata": {},
   "outputs": [
    {
     "data": {
      "image/png": "[encoded data removed]",
      "text/plain": [
       "<Figure size 640x480 with 1 Axes>"
      ]
     },
     "metadata": {},
     "output_type": "display_data"
    }
   ],
   "source": [
    "plt.boxplot(data4['total_cases'])\n",
    "plt.ylabel('total_cases')\n",
    "plt.title('Boxplot of total_cases')\n",
    "plt.show()"
   ]
  },
  {
   "cell_type": "code",
   "execution_count": 31,
   "metadata": {},
   "outputs": [
    {
     "data": {
      "image/png": "[encoded data removed]",
      "text/plain": [
       "<Figure size 640x480 with 1 Axes>"
      ]
     },
     "metadata": {},
     "output_type": "display_data"
    }
   ],
   "source": [
    "# draw histogram of total_cases\n",
    "plt.hist(data4['total_cases'])\n",
    "plt.xlabel('total_cases')\n",
    "plt.ylabel('Frequency')\n",
    "plt.title('Histogram of total_cases')\n",
    "plt.show()"
   ]
  },
  {
   "attachments": {},
   "cell_type": "markdown",
   "metadata": {},
   "source": [
    "As we can see from the Box Plot diagram and the histogram of the Total Cases, number above ~75 are outliers, So, i am going to remove them"
   ]
  },
  {
   "attachments": {},
   "cell_type": "markdown",
   "metadata": {},
   "source": [
    "# Step 4: Convert categorical data and Normalize the data"
   ]
  },
  {
   "cell_type": "code",
   "execution_count": 32,
   "metadata": {},
   "outputs": [],
   "source": [
    "data5 = data4.copy()"
   ]
  },
  {
   "cell_type": "code",
   "execution_count": 33,
   "metadata": {},
   "outputs": [],
   "source": [
    "# convert city to 0 and 1\n",
    "data5['city']=data5['city'].map({'sj':0,'iq':1})"
   ]
  },
  {
   "cell_type": "code",
   "execution_count": 34,
   "metadata": {},
   "outputs": [],
   "source": [
    "# Drop week_start_date column, i think it is not important\n",
    "data5=data5.drop('week_start_date',axis=1)"
   ]
  },
  {
   "cell_type": "code",
   "execution_count": 35,
   "metadata": {},
   "outputs": [
    {
     "data": {
      "text/plain": [
       "Index(['city', 'year', 'weekofyear', 'ndvi_ne', 'ndvi_nw', 'ndvi_se',\n",
       "       'ndvi_sw', 'precipitation_amt_mm', 'reanalysis_air_temp_k',\n",
       "       'reanalysis_avg_temp_k', 'reanalysis_dew_point_temp_k',\n",
       "       'reanalysis_max_air_temp_k', 'reanalysis_min_air_temp_k',\n",
       "       'reanalysis_precip_amt_kg_per_m2',\n",
       "       'reanalysis_relative_humidity_percent', 'reanalysis_sat_precip_amt_mm',\n",
       "       'reanalysis_specific_humidity_g_per_kg', 'reanalysis_tdtr_k',\n",
       "       'station_avg_temp_c', 'station_diur_temp_rng_c', 'station_max_temp_c',\n",
       "       'station_min_temp_c', 'station_precip_mm', 'total_cases'],\n",
       "      dtype='object')"
      ]
     },
     "execution_count": 35,
     "metadata": {},
     "output_type": "execute_result"
    }
   ],
   "source": [
    "data5.columns"
   ]
  },
  {
   "cell_type": "code",
   "execution_count": 36,
   "metadata": {},
   "outputs": [],
   "source": [
    "# # Normalize all the columns except the city column and the total_cases column\n",
    "from sklearn.preprocessing import RobustScaler\n",
    "scaler = RobustScaler()\n",
    "\n",
    "# Normalize all columns\n",
    "for col in data5.columns:\n",
    "    if col not in ['city','total_cases','year','weekofyear']:\n",
    "        scaler = RobustScaler()\n",
    "        data5[col]=scaler.fit_transform(data5[col].values.reshape(-1,1))"
   ]
  },
  {
   "cell_type": "code",
   "execution_count": 37,
   "metadata": {},
   "outputs": [
    {
     "name": "stdout",
     "output_type": "stream",
     "text": [
      "<class 'pandas.core.frame.DataFrame'>\n",
      "RangeIndex: 1456 entries, 0 to 1455\n",
      "Data columns (total 24 columns):\n",
      " #   Column                                 Non-Null Count  Dtype  \n",
      "---  ------                                 --------------  -----  \n",
      " 0   city                                   1456 non-null   int64  \n",
      " 1   year                                   1456 non-null   int64  \n",
      " 2   weekofyear                             1456 non-null   int64  \n",
      " 3   ndvi_ne                                1456 non-null   float64\n",
      " 4   ndvi_nw                                1456 non-null   float64\n",
      " 5   ndvi_se                                1456 non-null   float64\n",
      " 6   ndvi_sw                                1456 non-null   float64\n",
      " 7   precipitation_amt_mm                   1456 non-null   float64\n",
      " 8   reanalysis_air_temp_k                  1456 non-null   float64\n",
      " 9   reanalysis_avg_temp_k                  1456 non-null   float64\n",
      " 10  reanalysis_dew_point_temp_k            1456 non-null   float64\n",
      " 11  reanalysis_max_air_temp_k              1456 non-null   float64\n",
      " 12  reanalysis_min_air_temp_k              1456 non-null   float64\n",
      " 13  reanalysis_precip_amt_kg_per_m2        1456 non-null   float64\n",
      " 14  reanalysis_relative_humidity_percent   1456 non-null   float64\n",
      " 15  reanalysis_sat_precip_amt_mm           1456 non-null   float64\n",
      " 16  reanalysis_specific_humidity_g_per_kg  1456 non-null   float64\n",
      " 17  reanalysis_tdtr_k                      1456 non-null   float64\n",
      " 18  station_avg_temp_c                     1456 non-null   float64\n",
      " 19  station_diur_temp_rng_c                1456 non-null   float64\n",
      " 20  station_max_temp_c                     1456 non-null   float64\n",
      " 21  station_min_temp_c                     1456 non-null   float64\n",
      " 22  station_precip_mm                      1456 non-null   float64\n",
      " 23  total_cases                            1456 non-null   int32  \n",
      "dtypes: float64(20), int32(1), int64(3)\n",
      "memory usage: 267.4 KB\n"
     ]
    }
   ],
   "source": [
    "data5.info()"
   ]
  },
  {
   "cell_type": "code",
   "execution_count": 38,
   "metadata": {},
   "outputs": [],
   "source": [
    "from sklearn.decomposition import PCA"
   ]
  },
  {
   "cell_type": "code",
   "execution_count": 39,
   "metadata": {},
   "outputs": [
    {
     "data": {
      "text/plain": [
       "((1164, 23), (292, 23), (1164,), (292,))"
      ]
     },
     "execution_count": 39,
     "metadata": {},
     "output_type": "execute_result"
    }
   ],
   "source": [
    "X_train, X_val, Y_train, Y_val = train_test_split(data5.iloc[:,:-1], data5.iloc[:,-1], test_size = 0.2)\n",
    "X_train.shape, X_val.shape, Y_train.shape, Y_val.shape"
   ]
  },
  {
   "cell_type": "code",
   "execution_count": 40,
   "metadata": {},
   "outputs": [],
   "source": [
    "pca = PCA(n_components=5)\n",
    "\n",
    "# Fit the PCA model and transform the features\n",
    "features_pca = pca.fit_transform(X_train)\n",
    "X_val = pca.transform(X_val)\n",
    "\n",
    "# Create a DataFrame with the reduced features\n",
    "columns_pca = [f'PCA_{i+1}' for i in range(5)]\n",
    "df_pca = pd.DataFrame(features_pca, columns=columns_pca)\n",
    "X_val = pd.DataFrame(X_val, columns=columns_pca)\n",
    "\n",
    "X_train = df_pca.copy()"
   ]
  },
  {
   "cell_type": "code",
   "execution_count": 41,
   "metadata": {},
   "outputs": [
    {
     "data": {
      "text/html": [
       "<div>\n",
       "<style scoped>\n",
       "    .dataframe tbody tr th:only-of-type {\n",
       "        vertical-align: middle;\n",
       "    }\n",
       "\n",
       "    .dataframe tbody tr th {\n",
       "        vertical-align: top;\n",
       "    }\n",
       "\n",
       "    .dataframe thead th {\n",
       "        text-align: right;\n",
       "    }\n",
       "</style>\n",
       "<table border=\"1\" class=\"dataframe\">\n",
       "  <thead>\n",
       "    <tr style=\"text-align: right;\">\n",
       "      <th></th>\n",
       "      <th>PCA_1</th>\n",
       "      <th>PCA_2</th>\n",
       "      <th>PCA_3</th>\n",
       "      <th>PCA_4</th>\n",
       "      <th>PCA_5</th>\n",
       "    </tr>\n",
       "  </thead>\n",
       "  <tbody>\n",
       "    <tr>\n",
       "      <th>0</th>\n",
       "      <td>6.352313</td>\n",
       "      <td>-5.502975</td>\n",
       "      <td>1.087720</td>\n",
       "      <td>-1.140790</td>\n",
       "      <td>-0.790686</td>\n",
       "    </tr>\n",
       "    <tr>\n",
       "      <th>1</th>\n",
       "      <td>13.349919</td>\n",
       "      <td>-6.854827</td>\n",
       "      <td>2.071717</td>\n",
       "      <td>-0.482716</td>\n",
       "      <td>-0.393858</td>\n",
       "    </tr>\n",
       "    <tr>\n",
       "      <th>2</th>\n",
       "      <td>-8.565151</td>\n",
       "      <td>1.571361</td>\n",
       "      <td>-1.525610</td>\n",
       "      <td>-0.482303</td>\n",
       "      <td>-0.482646</td>\n",
       "    </tr>\n",
       "    <tr>\n",
       "      <th>3</th>\n",
       "      <td>18.373588</td>\n",
       "      <td>-4.107257</td>\n",
       "      <td>-2.406384</td>\n",
       "      <td>0.817164</td>\n",
       "      <td>-0.534034</td>\n",
       "    </tr>\n",
       "    <tr>\n",
       "      <th>4</th>\n",
       "      <td>14.509217</td>\n",
       "      <td>0.673068</td>\n",
       "      <td>0.078092</td>\n",
       "      <td>-1.143203</td>\n",
       "      <td>-1.475544</td>\n",
       "    </tr>\n",
       "    <tr>\n",
       "      <th>...</th>\n",
       "      <td>...</td>\n",
       "      <td>...</td>\n",
       "      <td>...</td>\n",
       "      <td>...</td>\n",
       "      <td>...</td>\n",
       "    </tr>\n",
       "    <tr>\n",
       "      <th>1159</th>\n",
       "      <td>-22.601058</td>\n",
       "      <td>0.220018</td>\n",
       "      <td>2.440909</td>\n",
       "      <td>0.221371</td>\n",
       "      <td>2.600071</td>\n",
       "    </tr>\n",
       "    <tr>\n",
       "      <th>1160</th>\n",
       "      <td>-23.551855</td>\n",
       "      <td>4.959531</td>\n",
       "      <td>-1.429907</td>\n",
       "      <td>-1.540799</td>\n",
       "      <td>0.699445</td>\n",
       "    </tr>\n",
       "    <tr>\n",
       "      <th>1161</th>\n",
       "      <td>-5.439277</td>\n",
       "      <td>2.376550</td>\n",
       "      <td>-0.874552</td>\n",
       "      <td>1.125511</td>\n",
       "      <td>-1.642789</td>\n",
       "    </tr>\n",
       "    <tr>\n",
       "      <th>1162</th>\n",
       "      <td>-21.627075</td>\n",
       "      <td>-0.123698</td>\n",
       "      <td>-1.449653</td>\n",
       "      <td>-0.671508</td>\n",
       "      <td>0.159936</td>\n",
       "    </tr>\n",
       "    <tr>\n",
       "      <th>1163</th>\n",
       "      <td>-0.329406</td>\n",
       "      <td>7.185184</td>\n",
       "      <td>-0.128675</td>\n",
       "      <td>0.756419</td>\n",
       "      <td>-1.262310</td>\n",
       "    </tr>\n",
       "  </tbody>\n",
       "</table>\n",
       "<p>1164 rows × 5 columns</p>\n",
       "</div>"
      ],
      "text/plain": [
       "          PCA_1     PCA_2     PCA_3     PCA_4     PCA_5\n",
       "0      6.352313 -5.502975  1.087720 -1.140790 -0.790686\n",
       "1     13.349919 -6.854827  2.071717 -0.482716 -0.393858\n",
       "2     -8.565151  1.571361 -1.525610 -0.482303 -0.482646\n",
       "3     18.373588 -4.107257 -2.406384  0.817164 -0.534034\n",
       "4     14.509217  0.673068  0.078092 -1.143203 -1.475544\n",
       "...         ...       ...       ...       ...       ...\n",
       "1159 -22.601058  0.220018  2.440909  0.221371  2.600071\n",
       "1160 -23.551855  4.959531 -1.429907 -1.540799  0.699445\n",
       "1161  -5.439277  2.376550 -0.874552  1.125511 -1.642789\n",
       "1162 -21.627075 -0.123698 -1.449653 -0.671508  0.159936\n",
       "1163  -0.329406  7.185184 -0.128675  0.756419 -1.262310\n",
       "\n",
       "[1164 rows x 5 columns]"
      ]
     },
     "execution_count": 41,
     "metadata": {},
     "output_type": "execute_result"
    }
   ],
   "source": [
    "X_train"
   ]
  },
  {
   "cell_type": "code",
   "execution_count": 42,
   "metadata": {},
   "outputs": [
    {
     "data": {
      "text/html": [
       "<div>\n",
       "<style scoped>\n",
       "    .dataframe tbody tr th:only-of-type {\n",
       "        vertical-align: middle;\n",
       "    }\n",
       "\n",
       "    .dataframe tbody tr th {\n",
       "        vertical-align: top;\n",
       "    }\n",
       "\n",
       "    .dataframe thead th {\n",
       "        text-align: right;\n",
       "    }\n",
       "</style>\n",
       "<table border=\"1\" class=\"dataframe\">\n",
       "  <thead>\n",
       "    <tr style=\"text-align: right;\">\n",
       "      <th></th>\n",
       "      <th>PCA_1</th>\n",
       "      <th>PCA_2</th>\n",
       "      <th>PCA_3</th>\n",
       "      <th>PCA_4</th>\n",
       "      <th>PCA_5</th>\n",
       "    </tr>\n",
       "  </thead>\n",
       "  <tbody>\n",
       "    <tr>\n",
       "      <th>0</th>\n",
       "      <td>-12.533104</td>\n",
       "      <td>-0.213596</td>\n",
       "      <td>3.349253</td>\n",
       "      <td>0.007416</td>\n",
       "      <td>0.397512</td>\n",
       "    </tr>\n",
       "    <tr>\n",
       "      <th>1</th>\n",
       "      <td>21.322100</td>\n",
       "      <td>-6.968711</td>\n",
       "      <td>1.595771</td>\n",
       "      <td>1.932350</td>\n",
       "      <td>3.387082</td>\n",
       "    </tr>\n",
       "    <tr>\n",
       "      <th>2</th>\n",
       "      <td>6.612414</td>\n",
       "      <td>2.985491</td>\n",
       "      <td>-0.362442</td>\n",
       "      <td>1.875387</td>\n",
       "      <td>-1.250994</td>\n",
       "    </tr>\n",
       "    <tr>\n",
       "      <th>3</th>\n",
       "      <td>-6.647424</td>\n",
       "      <td>-3.652111</td>\n",
       "      <td>-0.811419</td>\n",
       "      <td>2.535880</td>\n",
       "      <td>2.191113</td>\n",
       "    </tr>\n",
       "    <tr>\n",
       "      <th>4</th>\n",
       "      <td>6.407633</td>\n",
       "      <td>-0.454710</td>\n",
       "      <td>1.042320</td>\n",
       "      <td>-3.844150</td>\n",
       "      <td>-1.371485</td>\n",
       "    </tr>\n",
       "    <tr>\n",
       "      <th>...</th>\n",
       "      <td>...</td>\n",
       "      <td>...</td>\n",
       "      <td>...</td>\n",
       "      <td>...</td>\n",
       "      <td>...</td>\n",
       "    </tr>\n",
       "    <tr>\n",
       "      <th>287</th>\n",
       "      <td>12.576994</td>\n",
       "      <td>1.785656</td>\n",
       "      <td>-0.286246</td>\n",
       "      <td>1.831477</td>\n",
       "      <td>-0.616508</td>\n",
       "    </tr>\n",
       "    <tr>\n",
       "      <th>288</th>\n",
       "      <td>8.621877</td>\n",
       "      <td>4.863766</td>\n",
       "      <td>0.040165</td>\n",
       "      <td>0.105856</td>\n",
       "      <td>-1.050403</td>\n",
       "    </tr>\n",
       "    <tr>\n",
       "      <th>289</th>\n",
       "      <td>24.506844</td>\n",
       "      <td>3.677980</td>\n",
       "      <td>-1.547978</td>\n",
       "      <td>-1.489625</td>\n",
       "      <td>-0.200175</td>\n",
       "    </tr>\n",
       "    <tr>\n",
       "      <th>290</th>\n",
       "      <td>-19.564987</td>\n",
       "      <td>-2.785821</td>\n",
       "      <td>1.488573</td>\n",
       "      <td>-0.378840</td>\n",
       "      <td>-1.988783</td>\n",
       "    </tr>\n",
       "    <tr>\n",
       "      <th>291</th>\n",
       "      <td>8.543603</td>\n",
       "      <td>0.561122</td>\n",
       "      <td>1.714083</td>\n",
       "      <td>2.043388</td>\n",
       "      <td>1.838399</td>\n",
       "    </tr>\n",
       "  </tbody>\n",
       "</table>\n",
       "<p>292 rows × 5 columns</p>\n",
       "</div>"
      ],
      "text/plain": [
       "         PCA_1     PCA_2     PCA_3     PCA_4     PCA_5\n",
       "0   -12.533104 -0.213596  3.349253  0.007416  0.397512\n",
       "1    21.322100 -6.968711  1.595771  1.932350  3.387082\n",
       "2     6.612414  2.985491 -0.362442  1.875387 -1.250994\n",
       "3    -6.647424 -3.652111 -0.811419  2.535880  2.191113\n",
       "4     6.407633 -0.454710  1.042320 -3.844150 -1.371485\n",
       "..         ...       ...       ...       ...       ...\n",
       "287  12.576994  1.785656 -0.286246  1.831477 -0.616508\n",
       "288   8.621877  4.863766  0.040165  0.105856 -1.050403\n",
       "289  24.506844  3.677980 -1.547978 -1.489625 -0.200175\n",
       "290 -19.564987 -2.785821  1.488573 -0.378840 -1.988783\n",
       "291   8.543603  0.561122  1.714083  2.043388  1.838399\n",
       "\n",
       "[292 rows x 5 columns]"
      ]
     },
     "execution_count": 42,
     "metadata": {},
     "output_type": "execute_result"
    }
   ],
   "source": [
    "X_val"
   ]
  },
  {
   "attachments": {},
   "cell_type": "markdown",
   "metadata": {},
   "source": [
    "# Step 6: Apply ML"
   ]
  },
  {
   "cell_type": "code",
   "execution_count": 43,
   "metadata": {},
   "outputs": [],
   "source": [
    "batch_size = 3"
   ]
  },
  {
   "cell_type": "code",
   "execution_count": 44,
   "metadata": {},
   "outputs": [
    {
     "name": "stdout",
     "output_type": "stream",
     "text": [
      "WARNING:tensorflow:From c:\\Python310\\lib\\site-packages\\keras\\src\\losses.py:2976: The name tf.losses.sparse_softmax_cross_entropy is deprecated. Please use tf.compat.v1.losses.sparse_softmax_cross_entropy instead.\n",
      "\n",
      "WARNING:tensorflow:From c:\\Python310\\lib\\site-packages\\keras\\src\\backend.py:873: The name tf.get_default_graph is deprecated. Please use tf.compat.v1.get_default_graph instead.\n",
      "\n",
      "Model: \"sequential\"\n",
      "_________________________________________________________________\n",
      " Layer (type)                Output Shape              Param #   \n",
      "=================================================================\n",
      " dense (Dense)               (3, 5)                    30        \n",
      "                                                                 \n",
      " dense_1 (Dense)             (3, 8)                    48        \n",
      "                                                                 \n",
      " dropout (Dropout)           (3, 8)                    0         \n",
      "                                                                 \n",
      " dense_2 (Dense)             (3, 8)                    72        \n",
      "                                                                 \n",
      " dropout_1 (Dropout)         (3, 8)                    0         \n",
      "                                                                 \n",
      " dense_3 (Dense)             (3, 1)                    9         \n",
      "                                                                 \n",
      "=================================================================\n",
      "Total params: 159 (636.00 Byte)\n",
      "Trainable params: 159 (636.00 Byte)\n",
      "Non-trainable params: 0 (0.00 Byte)\n",
      "_________________________________________________________________\n"
     ]
    }
   ],
   "source": [
    "# Importing necessary libraries\n",
    "import numpy as np\n",
    "import tensorflow as tf\n",
    "from keras.models import Sequential\n",
    "from keras.layers import Dense, Dropout\n",
    "import keras\n",
    "\n",
    "# Creating a sequential model\n",
    "model = Sequential()\n",
    "model.add(Dense(X_train.shape[1], activation='swish'))\n",
    "model.add(Dense(8, activation='swish'))\n",
    "model.add(Dropout(0.5))\n",
    "\n",
    "\n",
    "model.add(Dense(8, activation='swish'))\n",
    "model.add(Dropout(0.5))\n",
    "\n",
    "model.add(Dense(1, activation='relu'))\n",
    "# Compiling the model\n",
    "model.compile(loss=tf.keras.losses.MeanSquaredError(), optimizer=keras.optimizers.Adamax(learning_rate=0.001), metrics=['mae'])\n",
    "model.build(\n",
    "    input_shape = (batch_size,X_train.shape[1]))\n",
    "model.summary()"
   ]
  },
  {
   "cell_type": "code",
   "execution_count": 290,
   "metadata": {},
   "outputs": [],
   "source": [
    "from keras.callbacks import EarlyStopping\n",
    "early_stopping = EarlyStopping(monitor='val_mae', patience=5, verbose=1)\n"
   ]
  },
  {
   "cell_type": "code",
   "execution_count": 291,
   "metadata": {},
   "outputs": [
    {
     "data": {
      "text/plain": [
       "array([  1,   5,   2,  11,   0,  89, 140,  16,   7,  14,   4,  22,  31,\n",
       "        13,   6,   8, 115,  21,  19, 129,  10,  12,  32,  23,  24,   9,\n",
       "        71,  17,  18,   3,  34,  15,  67,  26,  43,  72,  38,  20, 102,\n",
       "        60,  42,  44,  28,  25,  36,  40,  29,  56,  35,  76,  66,  62,\n",
       "        59,  37,  30,  27, 202,  55,  68, 116,  47,  41,  54,  46,  53,\n",
       "       150,  33,  70, 135,  64,  83,  61,  49,  80,  74,  65,  50, 127,\n",
       "        45,  75, 108,  99, 131, 204, 256, 106,  51, 101, 104, 329, 112,\n",
       "        82,  52, 191, 170,  73,  85, 119, 169,  57,  92,  58,  63, 181,\n",
       "       141,  77,  90, 220,  48,  39, 263, 128])"
      ]
     },
     "execution_count": 291,
     "metadata": {},
     "output_type": "execute_result"
    }
   ],
   "source": [
    "Y_train.unique()"
   ]
  },
  {
   "cell_type": "code",
   "execution_count": 292,
   "metadata": {},
   "outputs": [
    {
     "name": "stdout",
     "output_type": "stream",
     "text": [
      "Epoch 1/300\n",
      "320/320 [==============================] - 2s 3ms/step - loss: 1439.0023 - mae: 20.8627 - val_loss: 1180.6324 - val_mae: 21.2897\n",
      "Epoch 2/300\n",
      "320/320 [==============================] - 1s 3ms/step - loss: 1432.9315 - mae: 20.7359 - val_loss: 1172.3481 - val_mae: 21.1262\n",
      "Epoch 3/300\n",
      "320/320 [==============================] - 1s 3ms/step - loss: 1423.8607 - mae: 20.5429 - val_loss: 1163.6007 - val_mae: 20.9464\n",
      "Epoch 4/300\n",
      "320/320 [==============================] - 1s 3ms/step - loss: 1415.2715 - mae: 20.4031 - val_loss: 1153.9279 - val_mae: 20.7451\n",
      "Epoch 5/300\n",
      "320/320 [==============================] - 1s 3ms/step - loss: 1408.7198 - mae: 20.2384 - val_loss: 1144.0939 - val_mae: 20.5399\n",
      "Epoch 6/300\n",
      "320/320 [==============================] - 1s 3ms/step - loss: 1399.6329 - mae: 20.0314 - val_loss: 1135.6803 - val_mae: 20.3650\n",
      "Epoch 7/300\n",
      "320/320 [==============================] - 1s 3ms/step - loss: 1394.5059 - mae: 19.9663 - val_loss: 1127.1346 - val_mae: 20.1915\n",
      "Epoch 8/300\n",
      "320/320 [==============================] - 1s 2ms/step - loss: 1380.7177 - mae: 19.7971 - val_loss: 1118.4252 - val_mae: 20.0178\n",
      "Epoch 9/300\n",
      "320/320 [==============================] - 1s 3ms/step - loss: 1376.1172 - mae: 19.6388 - val_loss: 1109.4747 - val_mae: 19.8420\n",
      "Epoch 10/300\n",
      "320/320 [==============================] - 1s 3ms/step - loss: 1367.2466 - mae: 19.4724 - val_loss: 1099.5981 - val_mae: 19.6540\n",
      "Epoch 11/300\n",
      "320/320 [==============================] - 1s 3ms/step - loss: 1350.9781 - mae: 19.2682 - val_loss: 1089.8296 - val_mae: 19.4759\n",
      "Epoch 12/300\n",
      "320/320 [==============================] - 1s 3ms/step - loss: 1350.0763 - mae: 19.2247 - val_loss: 1080.9357 - val_mae: 19.3208\n",
      "Epoch 13/300\n",
      "320/320 [==============================] - 1s 3ms/step - loss: 1344.3468 - mae: 19.1648 - val_loss: 1071.6753 - val_mae: 19.1552\n",
      "Epoch 14/300\n",
      "320/320 [==============================] - 1s 3ms/step - loss: 1335.5388 - mae: 19.0024 - val_loss: 1062.1923 - val_mae: 18.9954\n",
      "Epoch 15/300\n",
      "320/320 [==============================] - 1s 3ms/step - loss: 1323.8604 - mae: 18.7698 - val_loss: 1052.4915 - val_mae: 18.8306\n",
      "Epoch 16/300\n",
      "320/320 [==============================] - 1s 3ms/step - loss: 1315.6399 - mae: 18.7509 - val_loss: 1041.9946 - val_mae: 18.6555\n",
      "Epoch 17/300\n",
      "320/320 [==============================] - 1s 3ms/step - loss: 1312.1360 - mae: 18.6637 - val_loss: 1033.2112 - val_mae: 18.5159\n",
      "Epoch 18/300\n",
      "320/320 [==============================] - 1s 3ms/step - loss: 1293.0731 - mae: 18.4384 - val_loss: 1022.8984 - val_mae: 18.3570\n",
      "Epoch 19/300\n",
      "320/320 [==============================] - 1s 3ms/step - loss: 1294.3116 - mae: 18.3700 - val_loss: 1013.0390 - val_mae: 18.2064\n",
      "Epoch 20/300\n",
      "320/320 [==============================] - 1s 3ms/step - loss: 1273.0930 - mae: 18.1955 - val_loss: 1002.2031 - val_mae: 18.0415\n",
      "Epoch 21/300\n",
      "320/320 [==============================] - 1s 3ms/step - loss: 1272.1534 - mae: 18.2475 - val_loss: 993.3575 - val_mae: 17.9141\n",
      "Epoch 22/300\n",
      "320/320 [==============================] - 1s 3ms/step - loss: 1276.1537 - mae: 18.2344 - val_loss: 984.5574 - val_mae: 17.7844\n",
      "Epoch 23/300\n",
      "320/320 [==============================] - 1s 3ms/step - loss: 1250.9885 - mae: 17.8880 - val_loss: 975.1513 - val_mae: 17.6551\n",
      "Epoch 24/300\n",
      "320/320 [==============================] - 1s 3ms/step - loss: 1240.5940 - mae: 17.8721 - val_loss: 965.2482 - val_mae: 17.5163\n",
      "Epoch 25/300\n",
      "320/320 [==============================] - 1s 2ms/step - loss: 1245.2787 - mae: 17.8476 - val_loss: 955.9146 - val_mae: 17.3895\n",
      "Epoch 26/300\n",
      "320/320 [==============================] - 1s 2ms/step - loss: 1219.9736 - mae: 17.6474 - val_loss: 946.7502 - val_mae: 17.2727\n",
      "Epoch 27/300\n",
      "320/320 [==============================] - 1s 2ms/step - loss: 1209.1095 - mae: 17.5112 - val_loss: 939.7082 - val_mae: 17.1936\n",
      "Epoch 28/300\n",
      "320/320 [==============================] - 1s 2ms/step - loss: 1211.7417 - mae: 17.7236 - val_loss: 932.6525 - val_mae: 17.1132\n",
      "Epoch 29/300\n",
      "320/320 [==============================] - 1s 2ms/step - loss: 1212.2805 - mae: 17.6595 - val_loss: 923.8698 - val_mae: 17.0137\n",
      "Epoch 30/300\n",
      "320/320 [==============================] - 1s 2ms/step - loss: 1197.0193 - mae: 17.4662 - val_loss: 915.6752 - val_mae: 16.9236\n",
      "Epoch 31/300\n",
      "320/320 [==============================] - 1s 2ms/step - loss: 1195.7639 - mae: 17.3608 - val_loss: 907.3663 - val_mae: 16.8272\n",
      "Epoch 32/300\n",
      "320/320 [==============================] - 1s 3ms/step - loss: 1191.3756 - mae: 17.3655 - val_loss: 898.6121 - val_mae: 16.7305\n",
      "Epoch 33/300\n",
      "320/320 [==============================] - 1s 3ms/step - loss: 1161.4349 - mae: 17.3141 - val_loss: 890.3004 - val_mae: 16.6404\n",
      "Epoch 34/300\n",
      "320/320 [==============================] - 1s 3ms/step - loss: 1172.4370 - mae: 17.1503 - val_loss: 882.0679 - val_mae: 16.5545\n",
      "Epoch 35/300\n",
      "320/320 [==============================] - 1s 3ms/step - loss: 1165.5254 - mae: 16.9195 - val_loss: 873.1043 - val_mae: 16.4651\n",
      "Epoch 36/300\n",
      "320/320 [==============================] - 1s 2ms/step - loss: 1141.0009 - mae: 16.6702 - val_loss: 865.6182 - val_mae: 16.3897\n",
      "Epoch 37/300\n",
      "320/320 [==============================] - 1s 2ms/step - loss: 1148.8853 - mae: 16.9836 - val_loss: 859.0836 - val_mae: 16.3249\n",
      "Epoch 38/300\n",
      "320/320 [==============================] - 1s 2ms/step - loss: 1128.9847 - mae: 17.1149 - val_loss: 852.8681 - val_mae: 16.2621\n",
      "Epoch 39/300\n",
      "320/320 [==============================] - 1s 2ms/step - loss: 1138.5789 - mae: 16.8532 - val_loss: 846.0801 - val_mae: 16.1955\n",
      "Epoch 40/300\n",
      "320/320 [==============================] - 1s 2ms/step - loss: 1104.7878 - mae: 16.5622 - val_loss: 838.1946 - val_mae: 16.1146\n",
      "Epoch 41/300\n",
      "320/320 [==============================] - 1s 2ms/step - loss: 1118.8094 - mae: 16.9375 - val_loss: 831.6234 - val_mae: 16.0494\n",
      "Epoch 42/300\n",
      "320/320 [==============================] - 1s 2ms/step - loss: 1104.9603 - mae: 16.7384 - val_loss: 823.7864 - val_mae: 15.9687\n",
      "Epoch 43/300\n",
      "320/320 [==============================] - 1s 3ms/step - loss: 1092.9912 - mae: 16.8203 - val_loss: 817.0612 - val_mae: 15.9000\n",
      "Epoch 44/300\n",
      "320/320 [==============================] - 1s 3ms/step - loss: 1094.7069 - mae: 16.5634 - val_loss: 810.8592 - val_mae: 15.8368\n",
      "Epoch 45/300\n",
      "320/320 [==============================] - 1s 3ms/step - loss: 1100.5065 - mae: 16.5248 - val_loss: 805.9758 - val_mae: 15.7845\n",
      "Epoch 46/300\n",
      "320/320 [==============================] - 1s 3ms/step - loss: 1071.6913 - mae: 16.4627 - val_loss: 800.0339 - val_mae: 15.7230\n",
      "Epoch 47/300\n",
      "320/320 [==============================] - 1s 3ms/step - loss: 1101.5061 - mae: 16.7024 - val_loss: 793.9835 - val_mae: 15.6614\n",
      "Epoch 48/300\n",
      "320/320 [==============================] - 1s 3ms/step - loss: 1063.5153 - mae: 16.5387 - val_loss: 788.7738 - val_mae: 15.6115\n",
      "Epoch 49/300\n",
      "320/320 [==============================] - 1s 3ms/step - loss: 1079.4518 - mae: 16.3056 - val_loss: 782.3233 - val_mae: 15.5521\n",
      "Epoch 50/300\n",
      "320/320 [==============================] - 1s 3ms/step - loss: 1082.2162 - mae: 16.7718 - val_loss: 777.5621 - val_mae: 15.5060\n",
      "Epoch 51/300\n",
      "320/320 [==============================] - 1s 3ms/step - loss: 1063.8104 - mae: 16.4910 - val_loss: 771.5986 - val_mae: 15.4465\n",
      "Epoch 52/300\n",
      "320/320 [==============================] - 1s 3ms/step - loss: 1065.2312 - mae: 16.3643 - val_loss: 765.8325 - val_mae: 15.3899\n",
      "Epoch 53/300\n",
      "320/320 [==============================] - 1s 3ms/step - loss: 1036.7322 - mae: 16.2164 - val_loss: 759.3262 - val_mae: 15.3341\n",
      "Epoch 54/300\n",
      "320/320 [==============================] - 1s 3ms/step - loss: 1053.1683 - mae: 16.8438 - val_loss: 753.9834 - val_mae: 15.2870\n",
      "Epoch 55/300\n",
      "320/320 [==============================] - 1s 3ms/step - loss: 1048.5128 - mae: 16.4878 - val_loss: 749.7037 - val_mae: 15.2391\n",
      "Epoch 56/300\n",
      "320/320 [==============================] - 1s 3ms/step - loss: 1025.4761 - mae: 16.2888 - val_loss: 744.1284 - val_mae: 15.1898\n",
      "Epoch 57/300\n",
      "320/320 [==============================] - 1s 3ms/step - loss: 1014.0001 - mae: 16.3054 - val_loss: 738.2760 - val_mae: 15.1410\n",
      "Epoch 58/300\n",
      "320/320 [==============================] - 1s 4ms/step - loss: 1035.1208 - mae: 16.5350 - val_loss: 733.6761 - val_mae: 15.0936\n",
      "Epoch 59/300\n",
      "320/320 [==============================] - 1s 3ms/step - loss: 1024.9829 - mae: 16.3797 - val_loss: 729.3120 - val_mae: 15.0463\n",
      "Epoch 60/300\n",
      "320/320 [==============================] - 1s 3ms/step - loss: 1018.0129 - mae: 16.3014 - val_loss: 724.7433 - val_mae: 15.0002\n",
      "Epoch 61/300\n",
      "320/320 [==============================] - 1s 3ms/step - loss: 1018.2602 - mae: 16.2819 - val_loss: 721.0613 - val_mae: 14.9554\n",
      "Epoch 62/300\n",
      "320/320 [==============================] - 1s 3ms/step - loss: 1009.1318 - mae: 16.3037 - val_loss: 716.4588 - val_mae: 14.9040\n",
      "Epoch 63/300\n",
      "320/320 [==============================] - 1s 3ms/step - loss: 1029.4766 - mae: 16.5275 - val_loss: 712.2840 - val_mae: 14.8480\n",
      "Epoch 64/300\n",
      "320/320 [==============================] - 1s 3ms/step - loss: 1012.0301 - mae: 16.3282 - val_loss: 708.3787 - val_mae: 14.7994\n",
      "Epoch 65/300\n",
      "320/320 [==============================] - 1s 3ms/step - loss: 1002.2588 - mae: 16.3099 - val_loss: 704.2888 - val_mae: 14.7634\n",
      "Epoch 66/300\n",
      "320/320 [==============================] - 1s 3ms/step - loss: 1029.7765 - mae: 16.8139 - val_loss: 701.3837 - val_mae: 14.7122\n",
      "Epoch 67/300\n",
      "320/320 [==============================] - 1s 3ms/step - loss: 979.0531 - mae: 16.2061 - val_loss: 698.6095 - val_mae: 14.6648\n",
      "Epoch 68/300\n",
      "320/320 [==============================] - 1s 3ms/step - loss: 981.2357 - mae: 16.3164 - val_loss: 695.2095 - val_mae: 14.6302\n",
      "Epoch 69/300\n",
      "320/320 [==============================] - 1s 3ms/step - loss: 987.7803 - mae: 16.1814 - val_loss: 691.5046 - val_mae: 14.5864\n",
      "Epoch 70/300\n",
      "320/320 [==============================] - 1s 3ms/step - loss: 999.6177 - mae: 16.1669 - val_loss: 688.3840 - val_mae: 14.5420\n",
      "Epoch 71/300\n",
      "320/320 [==============================] - 1s 3ms/step - loss: 981.1033 - mae: 16.0703 - val_loss: 684.2979 - val_mae: 14.5033\n",
      "Epoch 72/300\n",
      "320/320 [==============================] - 1s 3ms/step - loss: 971.3804 - mae: 16.1356 - val_loss: 680.8480 - val_mae: 14.4632\n",
      "Epoch 73/300\n",
      "320/320 [==============================] - 1s 2ms/step - loss: 968.4310 - mae: 16.1869 - val_loss: 677.3573 - val_mae: 14.4244\n",
      "Epoch 74/300\n",
      "320/320 [==============================] - 1s 2ms/step - loss: 971.0109 - mae: 16.3935 - val_loss: 673.9034 - val_mae: 14.3861\n",
      "Epoch 75/300\n",
      "320/320 [==============================] - 1s 3ms/step - loss: 968.7417 - mae: 15.7329 - val_loss: 669.8781 - val_mae: 14.3415\n",
      "Epoch 76/300\n",
      "320/320 [==============================] - 1s 3ms/step - loss: 939.6877 - mae: 16.0463 - val_loss: 667.4350 - val_mae: 14.2913\n",
      "Epoch 77/300\n",
      "320/320 [==============================] - 1s 3ms/step - loss: 992.4816 - mae: 16.1674 - val_loss: 664.4312 - val_mae: 14.2626\n",
      "Epoch 78/300\n",
      "320/320 [==============================] - 1s 3ms/step - loss: 950.9288 - mae: 16.1257 - val_loss: 660.4119 - val_mae: 14.2397\n",
      "Epoch 79/300\n",
      "320/320 [==============================] - 1s 3ms/step - loss: 969.4160 - mae: 16.0414 - val_loss: 657.7238 - val_mae: 14.2064\n",
      "Epoch 80/300\n",
      "320/320 [==============================] - 1s 3ms/step - loss: 985.5916 - mae: 16.6138 - val_loss: 656.0211 - val_mae: 14.1625\n",
      "Epoch 81/300\n",
      "320/320 [==============================] - 1s 3ms/step - loss: 963.7270 - mae: 16.1477 - val_loss: 652.9606 - val_mae: 14.1342\n",
      "Epoch 82/300\n",
      "320/320 [==============================] - 1s 3ms/step - loss: 975.8295 - mae: 16.0394 - val_loss: 650.5637 - val_mae: 14.1072\n",
      "Epoch 83/300\n",
      "320/320 [==============================] - 1s 3ms/step - loss: 940.9078 - mae: 15.7325 - val_loss: 647.1624 - val_mae: 14.0773\n",
      "Epoch 84/300\n",
      "320/320 [==============================] - 1s 3ms/step - loss: 933.7386 - mae: 15.9796 - val_loss: 644.3316 - val_mae: 14.0444\n",
      "Epoch 85/300\n",
      "320/320 [==============================] - 1s 3ms/step - loss: 931.1697 - mae: 16.3029 - val_loss: 642.1597 - val_mae: 13.9989\n",
      "Epoch 86/300\n",
      "320/320 [==============================] - 1s 3ms/step - loss: 903.0983 - mae: 15.6648 - val_loss: 640.5245 - val_mae: 13.9825\n",
      "Epoch 87/300\n",
      "320/320 [==============================] - 1s 3ms/step - loss: 929.7609 - mae: 15.8327 - val_loss: 636.7299 - val_mae: 13.9522\n",
      "Epoch 88/300\n",
      "320/320 [==============================] - 1s 3ms/step - loss: 931.7854 - mae: 15.6783 - val_loss: 635.2194 - val_mae: 13.9116\n",
      "Epoch 89/300\n",
      "320/320 [==============================] - 1s 3ms/step - loss: 894.5450 - mae: 15.6509 - val_loss: 632.2148 - val_mae: 13.8939\n",
      "Epoch 90/300\n",
      "320/320 [==============================] - 1s 3ms/step - loss: 950.3472 - mae: 15.9719 - val_loss: 630.0668 - val_mae: 13.8515\n",
      "Epoch 91/300\n",
      "320/320 [==============================] - 1s 3ms/step - loss: 880.4352 - mae: 15.6967 - val_loss: 627.0982 - val_mae: 13.8442\n",
      "Epoch 92/300\n",
      "320/320 [==============================] - 1s 3ms/step - loss: 870.7809 - mae: 15.4288 - val_loss: 624.5966 - val_mae: 13.8116\n",
      "Epoch 93/300\n",
      "320/320 [==============================] - 1s 3ms/step - loss: 919.2645 - mae: 16.1121 - val_loss: 623.0280 - val_mae: 13.7838\n",
      "Epoch 94/300\n",
      "320/320 [==============================] - 1s 3ms/step - loss: 919.8509 - mae: 15.9697 - val_loss: 621.0806 - val_mae: 13.7501\n",
      "Epoch 95/300\n",
      "320/320 [==============================] - 1s 3ms/step - loss: 923.9593 - mae: 15.7055 - val_loss: 618.9240 - val_mae: 13.7358\n",
      "Epoch 96/300\n",
      "320/320 [==============================] - 1s 2ms/step - loss: 902.6628 - mae: 15.7902 - val_loss: 616.5194 - val_mae: 13.7083\n",
      "Epoch 97/300\n",
      "320/320 [==============================] - 1s 3ms/step - loss: 920.9884 - mae: 15.7914 - val_loss: 613.8850 - val_mae: 13.6888\n",
      "Epoch 98/300\n",
      "320/320 [==============================] - 1s 3ms/step - loss: 891.7717 - mae: 15.7025 - val_loss: 612.0816 - val_mae: 13.6623\n",
      "Epoch 99/300\n",
      "320/320 [==============================] - 1s 3ms/step - loss: 944.1267 - mae: 15.9885 - val_loss: 610.3366 - val_mae: 13.6303\n",
      "Epoch 100/300\n",
      "320/320 [==============================] - 1s 3ms/step - loss: 908.5577 - mae: 15.7458 - val_loss: 608.9073 - val_mae: 13.5976\n",
      "Epoch 101/300\n",
      "320/320 [==============================] - 1s 3ms/step - loss: 900.7670 - mae: 15.8052 - val_loss: 607.6246 - val_mae: 13.5540\n",
      "Epoch 102/300\n",
      "320/320 [==============================] - 1s 3ms/step - loss: 895.3937 - mae: 15.7230 - val_loss: 604.6407 - val_mae: 13.5355\n",
      "Epoch 103/300\n",
      "320/320 [==============================] - 1s 3ms/step - loss: 910.7554 - mae: 15.5525 - val_loss: 602.9635 - val_mae: 13.5004\n",
      "Epoch 104/300\n",
      "320/320 [==============================] - 1s 3ms/step - loss: 891.6011 - mae: 15.6700 - val_loss: 600.8608 - val_mae: 13.4636\n",
      "Epoch 105/300\n",
      "320/320 [==============================] - 1s 3ms/step - loss: 897.3396 - mae: 15.4669 - val_loss: 598.8924 - val_mae: 13.4533\n",
      "Epoch 106/300\n",
      "320/320 [==============================] - 1s 3ms/step - loss: 946.5386 - mae: 16.2111 - val_loss: 597.5834 - val_mae: 13.4185\n",
      "Epoch 107/300\n",
      "320/320 [==============================] - 1s 3ms/step - loss: 841.0129 - mae: 15.2516 - val_loss: 596.1872 - val_mae: 13.3887\n",
      "Epoch 108/300\n",
      "320/320 [==============================] - 1s 3ms/step - loss: 895.0799 - mae: 15.7039 - val_loss: 593.8942 - val_mae: 13.3745\n",
      "Epoch 109/300\n",
      "320/320 [==============================] - 1s 3ms/step - loss: 861.5921 - mae: 15.6316 - val_loss: 592.9389 - val_mae: 13.3666\n",
      "Epoch 110/300\n",
      "320/320 [==============================] - 1s 3ms/step - loss: 943.0129 - mae: 15.7053 - val_loss: 591.3395 - val_mae: 13.3401\n",
      "Epoch 111/300\n",
      "320/320 [==============================] - 1s 3ms/step - loss: 924.8539 - mae: 15.9200 - val_loss: 591.0004 - val_mae: 13.3206\n",
      "Epoch 112/300\n",
      "320/320 [==============================] - 1s 3ms/step - loss: 866.1639 - mae: 15.3997 - val_loss: 589.8531 - val_mae: 13.3122\n",
      "Epoch 113/300\n",
      "320/320 [==============================] - 1s 3ms/step - loss: 924.0405 - mae: 15.9268 - val_loss: 589.7875 - val_mae: 13.2811\n",
      "Epoch 114/300\n",
      "320/320 [==============================] - 1s 3ms/step - loss: 898.3911 - mae: 15.8090 - val_loss: 589.5484 - val_mae: 13.2679\n",
      "Epoch 115/300\n",
      "320/320 [==============================] - 1s 3ms/step - loss: 859.7682 - mae: 15.4688 - val_loss: 587.6385 - val_mae: 13.2816\n",
      "Epoch 116/300\n",
      "320/320 [==============================] - 1s 3ms/step - loss: 896.5906 - mae: 15.5116 - val_loss: 586.4255 - val_mae: 13.2791\n",
      "Epoch 117/300\n",
      "320/320 [==============================] - 1s 3ms/step - loss: 887.4768 - mae: 15.9575 - val_loss: 585.6879 - val_mae: 13.2690\n",
      "Epoch 118/300\n",
      "320/320 [==============================] - 1s 3ms/step - loss: 861.4567 - mae: 15.4622 - val_loss: 583.9897 - val_mae: 13.2583\n",
      "Epoch 119/300\n",
      "320/320 [==============================] - 1s 3ms/step - loss: 904.0833 - mae: 15.4397 - val_loss: 582.0579 - val_mae: 13.2437\n",
      "Epoch 120/300\n",
      "320/320 [==============================] - 1s 3ms/step - loss: 883.5705 - mae: 15.3426 - val_loss: 580.6246 - val_mae: 13.2360\n",
      "Epoch 121/300\n",
      "320/320 [==============================] - 1s 3ms/step - loss: 899.4064 - mae: 15.2280 - val_loss: 580.8896 - val_mae: 13.2256\n",
      "Epoch 122/300\n",
      "320/320 [==============================] - 1s 2ms/step - loss: 913.8234 - mae: 15.9049 - val_loss: 581.5687 - val_mae: 13.2130\n",
      "Epoch 123/300\n",
      "320/320 [==============================] - 1s 3ms/step - loss: 880.4466 - mae: 15.7406 - val_loss: 579.3031 - val_mae: 13.2117\n",
      "Epoch 124/300\n",
      "320/320 [==============================] - 1s 3ms/step - loss: 851.9343 - mae: 15.4871 - val_loss: 577.1898 - val_mae: 13.2261\n",
      "Epoch 125/300\n",
      "320/320 [==============================] - 1s 3ms/step - loss: 865.9439 - mae: 15.3558 - val_loss: 575.8123 - val_mae: 13.2094\n",
      "Epoch 126/300\n",
      "320/320 [==============================] - 1s 3ms/step - loss: 886.2526 - mae: 15.5413 - val_loss: 573.8278 - val_mae: 13.2202\n",
      "Epoch 127/300\n",
      "320/320 [==============================] - 1s 3ms/step - loss: 875.1438 - mae: 15.6029 - val_loss: 573.0732 - val_mae: 13.2104\n",
      "Epoch 128/300\n",
      "320/320 [==============================] - 1s 3ms/step - loss: 853.4167 - mae: 15.1728 - val_loss: 574.2401 - val_mae: 13.1698\n",
      "Epoch 129/300\n",
      "320/320 [==============================] - 1s 2ms/step - loss: 862.5558 - mae: 15.1167 - val_loss: 572.9796 - val_mae: 13.1730\n",
      "Epoch 130/300\n",
      "320/320 [==============================] - 1s 3ms/step - loss: 856.7203 - mae: 15.1556 - val_loss: 570.3064 - val_mae: 13.1780\n",
      "Epoch 131/300\n",
      "320/320 [==============================] - 1s 3ms/step - loss: 884.8326 - mae: 15.7995 - val_loss: 572.8055 - val_mae: 13.1497\n",
      "Epoch 132/300\n",
      "320/320 [==============================] - 1s 3ms/step - loss: 859.9984 - mae: 15.4618 - val_loss: 570.9191 - val_mae: 13.1517\n",
      "Epoch 133/300\n",
      "320/320 [==============================] - 1s 3ms/step - loss: 895.8167 - mae: 15.8629 - val_loss: 570.4016 - val_mae: 13.1320\n",
      "Epoch 134/300\n",
      "320/320 [==============================] - 1s 3ms/step - loss: 842.6384 - mae: 15.3164 - val_loss: 569.2970 - val_mae: 13.1168\n",
      "Epoch 135/300\n",
      "320/320 [==============================] - 1s 3ms/step - loss: 868.5632 - mae: 15.4210 - val_loss: 568.2262 - val_mae: 13.0951\n",
      "Epoch 136/300\n",
      "320/320 [==============================] - 1s 3ms/step - loss: 897.0898 - mae: 16.0371 - val_loss: 567.8124 - val_mae: 13.0777\n",
      "Epoch 137/300\n",
      "320/320 [==============================] - 1s 3ms/step - loss: 891.5516 - mae: 15.5588 - val_loss: 567.2999 - val_mae: 13.0654\n",
      "Epoch 138/300\n",
      "320/320 [==============================] - 1s 3ms/step - loss: 882.7125 - mae: 15.6186 - val_loss: 566.4547 - val_mae: 13.0573\n",
      "Epoch 139/300\n",
      "320/320 [==============================] - 1s 3ms/step - loss: 860.8116 - mae: 15.3753 - val_loss: 566.2398 - val_mae: 13.0437\n",
      "Epoch 140/300\n",
      "320/320 [==============================] - 1s 3ms/step - loss: 886.7833 - mae: 15.6078 - val_loss: 565.0948 - val_mae: 13.0572\n",
      "Epoch 141/300\n",
      "320/320 [==============================] - 1s 2ms/step - loss: 844.5795 - mae: 15.3360 - val_loss: 563.2012 - val_mae: 13.0361\n",
      "Epoch 142/300\n",
      "320/320 [==============================] - 1s 2ms/step - loss: 861.8409 - mae: 15.6238 - val_loss: 562.4504 - val_mae: 13.0278\n",
      "Epoch 143/300\n",
      "320/320 [==============================] - 1s 3ms/step - loss: 860.2488 - mae: 14.9670 - val_loss: 559.9314 - val_mae: 13.0139\n",
      "Epoch 144/300\n",
      "320/320 [==============================] - 1s 3ms/step - loss: 852.2901 - mae: 15.3479 - val_loss: 560.5182 - val_mae: 12.9887\n",
      "Epoch 145/300\n",
      "320/320 [==============================] - 1s 3ms/step - loss: 852.9301 - mae: 15.3760 - val_loss: 558.9337 - val_mae: 12.9987\n",
      "Epoch 146/300\n",
      "320/320 [==============================] - 1s 3ms/step - loss: 855.1891 - mae: 15.6559 - val_loss: 558.0540 - val_mae: 13.0087\n",
      "Epoch 147/300\n",
      "320/320 [==============================] - 1s 3ms/step - loss: 859.6587 - mae: 15.6663 - val_loss: 556.7751 - val_mae: 12.9873\n",
      "Epoch 148/300\n",
      "320/320 [==============================] - 1s 3ms/step - loss: 871.8610 - mae: 15.9248 - val_loss: 557.2997 - val_mae: 12.9731\n",
      "Epoch 149/300\n",
      "320/320 [==============================] - 1s 3ms/step - loss: 832.1650 - mae: 15.0553 - val_loss: 555.8840 - val_mae: 12.9697\n",
      "Epoch 150/300\n",
      "320/320 [==============================] - 1s 3ms/step - loss: 862.2558 - mae: 15.3449 - val_loss: 554.8868 - val_mae: 12.9690\n",
      "Epoch 151/300\n",
      "320/320 [==============================] - 1s 3ms/step - loss: 843.7834 - mae: 15.5578 - val_loss: 553.7097 - val_mae: 12.9763\n",
      "Epoch 152/300\n",
      "320/320 [==============================] - 1s 3ms/step - loss: 854.6144 - mae: 15.4951 - val_loss: 555.1201 - val_mae: 12.9625\n",
      "Epoch 153/300\n",
      "320/320 [==============================] - 1s 3ms/step - loss: 887.6631 - mae: 15.4547 - val_loss: 554.4977 - val_mae: 12.9604\n",
      "Epoch 154/300\n",
      "320/320 [==============================] - 1s 3ms/step - loss: 844.7996 - mae: 15.4892 - val_loss: 555.4319 - val_mae: 12.9640\n",
      "Epoch 155/300\n",
      "320/320 [==============================] - 1s 3ms/step - loss: 804.8975 - mae: 14.6809 - val_loss: 553.5267 - val_mae: 12.9862\n",
      "Epoch 156/300\n",
      "320/320 [==============================] - 1s 3ms/step - loss: 851.5426 - mae: 15.5150 - val_loss: 553.5809 - val_mae: 12.9863\n",
      "Epoch 157/300\n",
      "320/320 [==============================] - 1s 3ms/step - loss: 870.6964 - mae: 15.8994 - val_loss: 554.7020 - val_mae: 12.9881\n",
      "Epoch 158/300\n",
      "320/320 [==============================] - 1s 3ms/step - loss: 863.3619 - mae: 15.4254 - val_loss: 556.0141 - val_mae: 12.9713\n",
      "Epoch 158: early stopping\n"
     ]
    },
    {
     "data": {
      "text/plain": [
       "<keras.src.callbacks.History at 0x2a58f39c430>"
      ]
     },
     "execution_count": 292,
     "metadata": {},
     "output_type": "execute_result"
    }
   ],
   "source": [
    "# Training the model\n",
    "model.fit(X_train, Y_train,validation_data=(X_val, Y_val), epochs=300, batch_size=batch_size,callbacks=[early_stopping])\n"
   ]
  },
  {
   "cell_type": "code",
   "execution_count": 1,
   "metadata": {},
   "outputs": [],
   "source": [
    "#models\n",
    "#2 multilinear \n",
    "#3 SCM, RPF --> with grid search\n",
    "#4 single linear\n",
    "#5 multipoly regression \n",
    "#6 LDA "
   ]
  },
  {
   "cell_type": "code",
   "execution_count": 53,
   "metadata": {},
   "outputs": [
    {
     "name": "stdout",
     "output_type": "stream",
     "text": [
      "MAE:  19.824358723455838\n"
     ]
    }
   ],
   "source": [
    "LR_model = LinearRegression()\n",
    " \n",
    "LR_model.fit(X_train, Y_train)\n",
    "y_pred = LR_model.predict(X_val)\n",
    "mae = mean_absolute_error(y_true=Y_val,y_pred=y_pred)\n",
    "print(\"MAE: \",mae)"
   ]
  },
  {
   "cell_type": "code",
   "execution_count": 46,
   "metadata": {},
   "outputs": [
    {
     "name": "stdout",
     "output_type": "stream",
     "text": [
      "MAE:  14.06131803993979\n"
     ]
    }
   ],
   "source": [
    "SVM_model = svm.SVR()\n",
    "SVM_model.fit(X_train, Y_train)\n",
    "y_pred = SVM_model.predict(X_val)\n",
    "mae = mean_absolute_error(y_true=Y_val,y_pred=y_pred)\n",
    "print(\"MAE: \",mae)\n"
   ]
  },
  {
   "cell_type": "code",
   "execution_count": 55,
   "metadata": {},
   "outputs": [
    {
     "name": "stdout",
     "output_type": "stream",
     "text": [
      "MAE:  11.027397260273972\n"
     ]
    }
   ],
   "source": [
    "DT_model = tree.DecisionTreeRegressor(max_depth=500,max_leaf_nodes=1000)\n",
    "DT_model.fit(X_train, Y_train)\n",
    "y_pred = DT_model.predict(X_val)\n",
    "mae = mean_absolute_error(y_true=Y_val,y_pred=y_pred)\n",
    "print(\"MAE: \",mae)"
   ]
  },
  {
   "cell_type": "code",
   "execution_count": 54,
   "metadata": {},
   "outputs": [
    {
     "name": "stdout",
     "output_type": "stream",
     "text": [
      "MAE:  11.732876712328768\n"
     ]
    }
   ],
   "source": [
    "RF_model = RandomForestClassifier(n_estimators=100,max_depth=500,max_leaf_nodes=1000)\n",
    "RF_model.fit(X_train, Y_train)\n",
    "y_pred = RF_model.predict(X_val)\n",
    "mae = mean_absolute_error(y_true=Y_val,y_pred=y_pred)\n",
    "print(\"MAE: \",mae)"
   ]
  },
  {
   "cell_type": "code",
   "execution_count": 56,
   "metadata": {},
   "outputs": [
    {
     "name": "stdout",
     "output_type": "stream",
     "text": [
      "MAE:  19.60958904109589\n"
     ]
    }
   ],
   "source": [
    "NB_model = GaussianNB()\n",
    "NB_model.fit(X_train, Y_train)\n",
    "y_pred = NB_model.predict(X_val)\n",
    "mae = mean_absolute_error(y_true=Y_val,y_pred=y_pred)\n",
    "print(\"MAE: \",mae)"
   ]
  },
  {
   "cell_type": "code",
   "execution_count": 57,
   "metadata": {},
   "outputs": [
    {
     "name": "stdout",
     "output_type": "stream",
     "text": [
      "MAE:  14.284246575342467\n"
     ]
    }
   ],
   "source": [
    "KNN_model = KNeighborsClassifier(n_neighbors=3)\n",
    "KNN_model.fit(X_train, Y_train)\n",
    "y_pred = KNN_model.predict(X_val)\n",
    "mae = mean_absolute_error(y_true=Y_val,y_pred=y_pred)\n",
    "print(\"MAE: \",mae)"
   ]
  },
  {
   "cell_type": "code",
   "execution_count": 58,
   "metadata": {},
   "outputs": [
    {
     "name": "stdout",
     "output_type": "stream",
     "text": [
      "MAE:  18.041095890410958\n"
     ]
    }
   ],
   "source": [
    "NN_model = MLPClassifier(\n",
    "    hidden_layer_sizes=(150,), \n",
    "    max_iter=1000,\n",
    "    learning_rate='adaptive',\n",
    "    batch_size=32,\n",
    "    activation='relu',\n",
    "    solver='adam',\n",
    "    learning_rate_init=0.01\n",
    ")\n",
    "NN_model.fit(X_train, Y_train)\n",
    "y_pred = NN_model.predict(X_val)\n",
    "mae = mean_absolute_error(y_true=Y_val,y_pred=y_pred)\n",
    "print(\"MAE: \",mae)"
   ]
  },
  {
   "cell_type": "code",
   "execution_count": 59,
   "metadata": {},
   "outputs": [
    {
     "name": "stdout",
     "output_type": "stream",
     "text": [
      "MAE using Bagging:  10.59486301369863\n"
     ]
    }
   ],
   "source": [
    "from sklearn.ensemble import BaggingRegressor\n",
    "\n",
    "regressors = [\n",
    "    ('DT', tree.DecisionTreeRegressor(max_depth=500, max_leaf_nodes=1000)),\n",
    "    ('SVM', svm.SVR()),\n",
    "    ('LR', LinearRegression())\n",
    "]\n",
    "\n",
    "\n",
    "bagging_regressor = BaggingRegressor(base_estimator=None, n_estimators=10, random_state=42)\n",
    "\n",
    "\n",
    "bagging_regressor.fit(X_train, Y_train)\n",
    "\n",
    "y_pred_bagging = bagging_regressor.predict(X_val)\n",
    "\n",
    "\n",
    "mae_bagging = mean_absolute_error(Y_val, y_pred_bagging)\n",
    "print(\"MAE using Bagging: \", mae_bagging)"
   ]
  },
  {
   "attachments": {},
   "cell_type": "markdown",
   "metadata": {},
   "source": [
    "1) How about make model for SJ and a model for IQ independant ?<br>\n",
    "2) How about making voting method ?"
   ]
  },
  {
   "attachments": {},
   "cell_type": "markdown",
   "metadata": {},
   "source": [
    "# Step 7: Apply ML for test set"
   ]
  },
  {
   "cell_type": "code",
   "execution_count": null,
   "metadata": {},
   "outputs": [],
   "source": [
    "X_test=pd.read_csv('dengue_features_test.csv')\n",
    "\n",
    "X_test['city']=X_test['city'].map({'sj':0,'iq':1})\n",
    "\n",
    "X_test=X_test.drop('week_start_date',axis=1)\n",
    "\n",
    "for col in X_test.columns:\n",
    "    if col not in ['city','total_cases']:\n",
    "        X_test[col]=(X_test[col]-mins[col])/(maxs[col]-mins[col])"
   ]
  },
  {
   "cell_type": "code",
   "execution_count": null,
   "metadata": {},
   "outputs": [],
   "source": [
    "X_test.isnull().any()"
   ]
  },
  {
   "attachments": {},
   "cell_type": "markdown",
   "metadata": {},
   "source": [
    "The testset contain Nulls, we need to deal with it first"
   ]
  },
  {
   "cell_type": "code",
   "execution_count": null,
   "metadata": {},
   "outputs": [],
   "source": [
    "# tab3n 8lt ene a3mel drop ll test cases\n",
    "X_test.dropna(inplace=True)"
   ]
  },
  {
   "cell_type": "code",
   "execution_count": 168,
   "metadata": {},
   "outputs": [
    {
     "name": "stderr",
     "output_type": "stream",
     "text": [
      "/tmp/ipykernel_6775/2861913588.py:3: SettingWithCopyWarning: \n",
      "A value is trying to be set on a copy of a slice from a DataFrame.\n",
      "Try using .loc[row_indexer,col_indexer] = value instead\n",
      "\n",
      "See the caveats in the documentation: https://pandas.pydata.org/pandas-docs/stable/user_guide/indexing.html#returning-a-view-versus-a-copy\n",
      "  out['total_cases']=y_test_pred\n"
     ]
    }
   ],
   "source": [
    "y_test_pred = SVM_model.predict(X_test)\n",
    "out = X_test[['city','year','weekofyear']]\n",
    "out['total_cases']=y_test_pred\n",
    "\n",
    "# Denormalize the ['city','year','weekofyear'] col\n",
    "out.to_csv('out.csv',index=False,header=True)"
   ]
  }
 ],
 "metadata": {
  "kernelspec": {
   "display_name": "Python 3 (ipykernel)",
   "language": "python",
   "name": "python3"
  },
  "language_info": {
   "codemirror_mode": {
    "name": "ipython",
    "version": 3
   },
   "file_extension": ".py",
   "mimetype": "text/x-python",
   "name": "python",
   "nbconvert_exporter": "python",
   "pygments_lexer": "ipython3",
   "version": "3.10.3"
  }
 },
 "nbformat": 4,
 "nbformat_minor": 4
}
